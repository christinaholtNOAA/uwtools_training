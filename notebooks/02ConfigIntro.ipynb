{
 "cells": [
  {
   "cell_type": "markdown",
   "id": "0af49ee7-f350-49ce-962e-fe0b068d97c5",
   "metadata": {},
   "source": [
    "# UW Config Tool\n",
    "\n",
    "The `uw config` tool has four modes:\n",
    "- `realize` -- creates output that is as fully rendered as possible\n",
    "- `compose` -- builds up a final config by repeatedly updating a base config with the contents of other configs of the same format\n",
    "- `compare` -- compares two config files\n",
    "- `validate` -- ensures that a given config file is structured properly\n",
    "\n",
    "API examples of these tools are available from the `uwtools` __[Config notebook](https://github.com/ufs-community/uwtools/blob/main/notebooks/config.ipynb)__."
   ]
  },
  {
   "cell_type": "code",
   "execution_count": 1,
   "id": "7f48d22a-9f4e-438d-82c7-b785c01a12db",
   "metadata": {},
   "outputs": [],
   "source": [
    "import os\n",
    "os.chdir(\"../configs\")"
   ]
  },
  {
   "cell_type": "markdown",
   "id": "4d3b4968-ea6b-44dd-8bec-7303be8eba60",
   "metadata": {},
   "source": [
    "# Running Realize\n",
    "\n",
    "* Default format is YAML when format isn't provided and cannot be deduced.\n",
    "* Supported formats also include INI, Fortran Namelist, Bash.\n",
    "* Can transform between compatible formats. All formats can be transformed to YAML.\n",
    "  "
   ]
  },
  {
   "cell_type": "markdown",
   "id": "8c509666-3fbd-4f90-b4da-b6068599b08c",
   "metadata": {},
   "source": [
    "### The `--help`, `-h` flag"
   ]
  },
  {
   "cell_type": "code",
   "execution_count": 2,
   "id": "97d0f230-5aca-4e77-9863-77d265a2822c",
   "metadata": {
    "scrolled": true
   },
   "outputs": [
    {
     "name": "stdout",
     "output_type": "stream",
     "text": [
      "usage: uw config realize [-h] [--version] [--input-file PATH]\n",
      "                         [--input-format {ini,nml,sh,yaml}]\n",
      "                         [--update-file PATH]\n",
      "                         [--update-format {ini,nml,sh,yaml}]\n",
      "                         [--output-file PATH]\n",
      "                         [--output-format {ini,nml,sh,yaml}]\n",
      "                         [--key-path KEY[.KEY...]] [--values-needed] [--total]\n",
      "                         [--dry-run] [--quiet] [--verbose]\n",
      "\n",
      "Realize config\n",
      "\n",
      "Optional arguments:\n",
      "  -h, --help\n",
      "      Show help and exit\n",
      "  --version\n",
      "      Show version info and exit\n",
      "  --input-file PATH, -i PATH\n",
      "      Path to input file (default: read from stdin)\n",
      "  --input-format {ini,nml,sh,yaml}\n",
      "      Input format (default: yaml)\n",
      "  --update-file PATH, -u PATH\n",
      "      Path to update file (default: read from stdin)\n",
      "  --update-format {ini,nml,sh,yaml}\n",
      "      Update format\n",
      "  --output-file PATH, -o PATH\n",
      "      Path to output file (default: write to stdout)\n",
      "  --output-format {ini,nml,sh,yaml}\n",
      "      Output format (default: yaml)\n",
      "  --key-path KEY[.KEY...]\n",
      "      Dot-separated path of keys to the block to be output\n",
      "  --values-needed\n",
      "      Print report of values needed to realize config\n",
      "  --total\n",
      "      Require rendering of all Jinja2 variables/expressions\n",
      "  --dry-run\n",
      "      Only log info, making no changes\n",
      "  --quiet, -q\n",
      "      Print no logging messages\n",
      "  --verbose, -v\n",
      "      Print all logging messages\n"
     ]
    }
   ],
   "source": [
    "!uw config realize -h  "
   ]
  },
  {
   "cell_type": "markdown",
   "id": "6010c455-5b2f-4fe3-ba5c-795bd6711694",
   "metadata": {},
   "source": [
    "### Realize an input file with `--input-file`, `-i`\n",
    "\n",
    "The most basic option. Render all expressions possible. Any values unavailable will be left as their original Jinja2 expressions."
   ]
  },
  {
   "cell_type": "code",
   "execution_count": 3,
   "id": "f0e0d81e-b6af-46d0-890b-0bfc93ad8310",
   "metadata": {},
   "outputs": [
    {
     "name": "stdout",
     "output_type": "stream",
     "text": [
      "a:\n",
      "  pi: 3.14\n",
      "b:\n",
      "  foo:\n",
      "    pi: 3.14\n",
      "  bar:\n",
      "    one: 1\n",
      "    two: 2\n",
      "date: '{{ cycle }}'\n"
     ]
    }
   ],
   "source": [
    "!uw config realize -i ci01.yaml"
   ]
  },
  {
   "cell_type": "markdown",
   "id": "d089a081-4265-4c7b-8ec0-120c315f47f5",
   "metadata": {},
   "source": [
    "### Require all expressions to be rendered with `--total` flag"
   ]
  },
  {
   "cell_type": "code",
   "execution_count": 4,
   "id": "71901bb3-8f58-4c39-b54f-53fd19d73709",
   "metadata": {},
   "outputs": [
    {
     "name": "stdout",
     "output_type": "stream",
     "text": [
      "[2025-09-22T11:22:55]    ERROR Config could not be realized. Try with --values-needed for details.\n"
     ]
    }
   ],
   "source": [
    "!uw config realize -i ci01.yaml --total"
   ]
  },
  {
   "cell_type": "markdown",
   "id": "662375b6-7154-4560-b9e4-cf6f5a862c8d",
   "metadata": {},
   "source": [
    "### Check which values remain with `--values-needed` flag"
   ]
  },
  {
   "cell_type": "code",
   "execution_count": 5,
   "id": "b8c37333-2db8-44bf-8bae-ea84224f71eb",
   "metadata": {},
   "outputs": [
    {
     "name": "stdout",
     "output_type": "stream",
     "text": [
      "[2025-09-22T11:22:55]     INFO Keys that are complete:\n",
      "[2025-09-22T11:22:55]     INFO   a\n",
      "[2025-09-22T11:22:55]     INFO   a.pi\n",
      "[2025-09-22T11:22:55]     INFO   b\n",
      "[2025-09-22T11:22:55]     INFO   b.foo\n",
      "[2025-09-22T11:22:55]     INFO   b.foo.pi\n",
      "[2025-09-22T11:22:55]     INFO   b.bar\n",
      "[2025-09-22T11:22:55]     INFO   b.bar.one\n",
      "[2025-09-22T11:22:55]     INFO   b.bar.two\n",
      "[2025-09-22T11:22:55]     INFO \n",
      "[2025-09-22T11:22:55]     INFO Keys with unrendered Jinja2 variables/expressions:\n",
      "[2025-09-22T11:22:55]     INFO   date: {{ cycle }}\n"
     ]
    }
   ],
   "source": [
    "!uw config realize -i ci01.yaml --total --values-needed"
   ]
  },
  {
   "cell_type": "markdown",
   "id": "8a6490ec-ecf7-4b5a-ac4a-ebedd43923bb",
   "metadata": {},
   "source": [
    "### Provide input or update-values via pipes\n",
    "\n",
    "Pipe input from bash to provide those missing values. Use the `--update-format` flag to let the tool know to use the additional information. It could instead be provided by file, in which case, the `-u` flag may be used to point to that file. "
   ]
  },
  {
   "cell_type": "code",
   "execution_count": 6,
   "id": "4e828071-389d-4135-a01b-037d12a75b5d",
   "metadata": {},
   "outputs": [
    {
     "name": "stdout",
     "output_type": "stream",
     "text": [
      "a:\n",
      "  pi: 3.14\n",
      "b:\n",
      "  foo:\n",
      "    pi: 3.14\n",
      "  bar:\n",
      "    one: 1\n",
      "    two: 2\n",
      "date: '2025-09-24 12:00:00'\n",
      "cycle: 2025-09-24T12:00:00\n"
     ]
    }
   ],
   "source": [
    "%%bash\n",
    "args=(\n",
    "    -i ci01.yaml\n",
    "    --update-format yaml\n",
    ")    \n",
    "echo 'cycle: !datetime 2025-09-24T12' | uw config realize ${args[*]}"
   ]
  },
  {
   "cell_type": "markdown",
   "id": "ffdb7722-e5bd-4860-97b3-b68e6f3ae9fe",
   "metadata": {},
   "source": [
    "### Output only a subsection with the `--key-path` flag"
   ]
  },
  {
   "cell_type": "code",
   "execution_count": 7,
   "id": "51b6cfe0-00e3-40b2-9463-2e20de9d0ee4",
   "metadata": {},
   "outputs": [
    {
     "name": "stdout",
     "output_type": "stream",
     "text": [
      "foo:\n",
      "  pi: 3.14\n",
      "bar:\n",
      "  one: 1\n",
      "  two: 2\n"
     ]
    }
   ],
   "source": [
    "%%bash\n",
    "args=(\n",
    "    -i ci01.yaml\n",
    "    --update-format yaml\n",
    "    --key-path b\n",
    ")\n",
    "echo 'cycle: !datetime 2025-09-24T12' | uw config realize ${args[*]}"
   ]
  },
  {
   "cell_type": "markdown",
   "id": "970146aa-cc4d-4c7d-8ac8-d441466b6002",
   "metadata": {},
   "source": [
    "### Output the result to a file with `--output-file`, `-o` flag\n",
    "\n",
    "* Default is `stdout`.\n",
    "* Format is assumed from the file name provided.\n",
    "* Format can be explicitly stated with the `--output-format` flag\n"
   ]
  },
  {
   "cell_type": "code",
   "execution_count": 8,
   "id": "02d1311b-5dfd-4e21-8c2f-8a98586b2f63",
   "metadata": {},
   "outputs": [],
   "source": [
    "%%bash\n",
    "args=(\n",
    "    -i ci01.yaml\n",
    "    --update-format yaml\n",
    "    --key-path b\n",
    "    -o b.yaml\n",
    ")\n",
    "echo 'cycle: !datetime 2025-09-24T12' | uw config realize ${args[*]}"
   ]
  },
  {
   "cell_type": "code",
   "execution_count": 9,
   "id": "7253bd2c-8ae6-4c4a-8d92-0ec6ed0cf385",
   "metadata": {},
   "outputs": [
    {
     "name": "stdout",
     "output_type": "stream",
     "text": [
      "foo:\n",
      "  pi: 3.14\n",
      "bar:\n",
      "  one: 1\n",
      "  two: 2\n"
     ]
    }
   ],
   "source": [
    "!cat b.yaml"
   ]
  },
  {
   "cell_type": "markdown",
   "id": "172120f4-ce4c-413f-a1fe-d188ae8d4d1d",
   "metadata": {},
   "source": [
    "### Translate formats by providing different input and output formats\n",
    "\n",
    "* Format translations must be compatible.\n",
    "* INI and Fortran Namelist both require sections with keys/value pairs (depth=2)\n",
    "* Bash may only have key/value pairs (depth=1)"
   ]
  },
  {
   "cell_type": "markdown",
   "id": "a1b55e87-538b-4c52-955c-f92765f398d9",
   "metadata": {},
   "source": [
    "#### YAML -> Namelist"
   ]
  },
  {
   "cell_type": "code",
   "execution_count": 10,
   "id": "b1b4fa4a-18b1-471b-b228-70a1e54d0ff0",
   "metadata": {
    "scrolled": true
   },
   "outputs": [],
   "source": [
    "%%bash\n",
    "args=(\n",
    "    -i ci01.yaml \n",
    "    --update-format yaml\n",
    "    --key-path b\n",
    "    -o b.nml\n",
    ")\n",
    "echo 'cycle: !datetime 2025-09-24T12' | uw config realize ${args[*]}"
   ]
  },
  {
   "cell_type": "code",
   "execution_count": 11,
   "id": "bf09f766-d29c-4e22-80e1-086528f866f5",
   "metadata": {},
   "outputs": [
    {
     "name": "stdout",
     "output_type": "stream",
     "text": [
      "&foo\n",
      "    pi = 3.14\n",
      "/\n",
      "\n",
      "&bar\n",
      "    one = 1\n",
      "    two = 2\n",
      "/\n"
     ]
    }
   ],
   "source": [
    "!cat b.nml"
   ]
  },
  {
   "cell_type": "markdown",
   "id": "253621b7-1a6c-4aab-b0f7-da96c4fca268",
   "metadata": {},
   "source": [
    "#### YAML -> INI"
   ]
  },
  {
   "cell_type": "code",
   "execution_count": 12,
   "id": "8a14795a-7ccb-4a86-a812-8c7cb74f0ea7",
   "metadata": {},
   "outputs": [],
   "source": [
    "%%bash\n",
    "args=(\n",
    "    -i ci01.yaml \n",
    "    --update-format yaml\n",
    "    --key-path b\n",
    "    -o b.ini\n",
    ")\n",
    "echo 'cycle: !datetime 2025-09-24T12' | uw config realize ${args[*]}"
   ]
  },
  {
   "cell_type": "code",
   "execution_count": 13,
   "id": "3443394f-6e55-47b9-b4f9-22fc243b87f0",
   "metadata": {},
   "outputs": [
    {
     "name": "stdout",
     "output_type": "stream",
     "text": [
      "[foo]\n",
      "pi = 3.14\n",
      "\n",
      "[bar]\n",
      "one = 1\n",
      "two = 2\n"
     ]
    }
   ],
   "source": [
    "%%bash\n",
    "cat b.ini"
   ]
  },
  {
   "cell_type": "markdown",
   "id": "b058efed-1011-4d8d-ac44-7049d22844b1",
   "metadata": {},
   "source": [
    "#### YAML section -> bash"
   ]
  },
  {
   "cell_type": "code",
   "execution_count": 14,
   "id": "8277d0c0-4dc8-4a89-9219-f389fa46d573",
   "metadata": {},
   "outputs": [],
   "source": [
    "%%bash\n",
    "args=(\n",
    "    -i ci01.yaml \n",
    "    --update-format yaml\n",
    "    --key-path b.bar\n",
    "    -o b.sh\n",
    ")\n",
    "echo 'cycle: !datetime 2025-09-24T12' | uw config realize ${args[*]}"
   ]
  },
  {
   "cell_type": "code",
   "execution_count": 15,
   "id": "c38b2114-89bb-44d2-be54-371e34a18575",
   "metadata": {},
   "outputs": [
    {
     "name": "stdout",
     "output_type": "stream",
     "text": [
      "one=1\n",
      "two=2\n"
     ]
    }
   ],
   "source": [
    "!cat b.sh"
   ]
  },
  {
   "cell_type": "markdown",
   "id": "433a7cf5-7950-4fc6-8e3d-49fb6815d923",
   "metadata": {},
   "source": [
    "# Running Compose"
   ]
  },
  {
   "cell_type": "code",
   "execution_count": 16,
   "id": "b58fbee0-47c5-442f-998c-ec1118c0d86b",
   "metadata": {},
   "outputs": [
    {
     "name": "stdout",
     "output_type": "stream",
     "text": [
      "usage: uw config compose [-h] [--version] [--realize] [--output-file PATH]\n",
      "                         [--input-format {ini,nml,sh,yaml}]\n",
      "                         [--output-format {ini,nml,sh,yaml}] [--quiet]\n",
      "                         [--verbose]\n",
      "                         CONFIG [CONFIG ...]\n",
      "\n",
      "Compose configs\n",
      "\n",
      "positional arguments:\n",
      "  CONFIG\n",
      "\n",
      "Optional arguments:\n",
      "  -h, --help\n",
      "      Show help and exit\n",
      "  --version\n",
      "      Show version info and exit\n",
      "  --realize\n",
      "      Render template expressions where possible\n",
      "  --output-file PATH, -o PATH\n",
      "      Path to output file (default: write to stdout)\n",
      "  --input-format {ini,nml,sh,yaml}\n",
      "      Input format (default: yaml)\n",
      "  --output-format {ini,nml,sh,yaml}\n",
      "      Output format (default: yaml)\n",
      "  --quiet, -q\n",
      "      Print no logging messages\n",
      "  --verbose, -v\n",
      "      Print all logging messages\n"
     ]
    }
   ],
   "source": [
    "!uw config compose -h"
   ]
  },
  {
   "cell_type": "code",
   "execution_count": 17,
   "id": "cfb45163-6fbd-4d64-9b78-956b0b2b8f3e",
   "metadata": {},
   "outputs": [
    {
     "name": "stdout",
     "output_type": "stream",
     "text": [
      "foo:\n",
      "  pi: 3.14\n",
      "bar:\n",
      "  one: 1\n",
      "  two: 2\n"
     ]
    }
   ],
   "source": [
    "!cat b.yaml"
   ]
  },
  {
   "cell_type": "code",
   "execution_count": 18,
   "id": "53321072-6947-47fc-a009-c2a580d4688c",
   "metadata": {},
   "outputs": [
    {
     "name": "stdout",
     "output_type": "stream",
     "text": [
      "bar:\n",
      "  two: 42\n",
      "  three: 3.0\n",
      "\n"
     ]
    }
   ],
   "source": [
    "!cat ci02.yaml"
   ]
  },
  {
   "cell_type": "code",
   "execution_count": 19,
   "id": "6454c157-6453-460f-bbcc-a54d19f82642",
   "metadata": {},
   "outputs": [
    {
     "name": "stdout",
     "output_type": "stream",
     "text": [
      "bar:\n",
      "  two: 2\n",
      "  three: 3.0\n",
      "  one: 1\n",
      "foo:\n",
      "  pi: 3.14\n"
     ]
    }
   ],
   "source": [
    "!uw config compose ci02.yaml b.yaml "
   ]
  },
  {
   "cell_type": "markdown",
   "id": "5da6c874-24b5-4317-96ff-d3f53437470b",
   "metadata": {},
   "source": [
    "# Running Compare\n",
    "\n",
    "* Given two paths, compare entries and report on diffs\n",
    "* Both files must be the same format."
   ]
  },
  {
   "cell_type": "code",
   "execution_count": 20,
   "id": "6ec34752-5b76-4b37-9115-a034243d1179",
   "metadata": {},
   "outputs": [
    {
     "name": "stdout",
     "output_type": "stream",
     "text": [
      "usage: uw config compare --path1 PATH --path2 PATH [-h] [--version]\n",
      "                         [--format1 {ini,nml,sh,yaml}]\n",
      "                         [--format2 {ini,nml,sh,yaml}] [--quiet] [--verbose]\n",
      "\n",
      "Compare configs\n",
      "\n",
      "Required arguments:\n",
      "  --path1 PATH\n",
      "      Path to file 1\n",
      "  --path2 PATH\n",
      "      Path to file 2\n",
      "\n",
      "Optional arguments:\n",
      "  -h, --help\n",
      "      Show help and exit\n",
      "  --version\n",
      "      Show version info and exit\n",
      "  --format1 {ini,nml,sh,yaml}\n",
      "      Format of file 1\n",
      "  --format2 {ini,nml,sh,yaml}\n",
      "      Format of file 2\n",
      "  --quiet, -q\n",
      "      Print no logging messages\n",
      "  --verbose, -v\n",
      "      Print all logging messages\n"
     ]
    }
   ],
   "source": [
    "!uw config compare -h"
   ]
  },
  {
   "cell_type": "markdown",
   "id": "9736333f-0cc2-4593-8d6f-cab832518c98",
   "metadata": {},
   "source": [
    "## Compare two namelists"
   ]
  },
  {
   "cell_type": "code",
   "execution_count": 21,
   "id": "b96c20f3-dd72-4639-9ed0-123d4f83fb33",
   "metadata": {},
   "outputs": [
    {
     "name": "stdout",
     "output_type": "stream",
     "text": [
      "[2025-09-22T11:22:58]     INFO - ci03.nml\n",
      "[2025-09-22T11:22:58]     INFO + b.nml\n",
      "[2025-09-22T11:22:58]     INFO ---------------------------------------------------------------------\n",
      "[2025-09-22T11:22:58]     INFO ↓ ? = info | -/+ = line unique to - or + file | blank = matching line\n",
      "[2025-09-22T11:22:58]     INFO ---------------------------------------------------------------------\n",
      "[2025-09-22T11:22:58]     INFO   bar:\n",
      "[2025-09-22T11:22:58]     INFO     one: 1\n",
      "[2025-09-22T11:22:58]     INFO -   three: 3\n",
      "[2025-09-22T11:22:58]     INFO     two: 2\n",
      "[2025-09-22T11:22:58]     INFO   foo:\n",
      "[2025-09-22T11:22:58]     INFO -   pi: 3.1415\n",
      "[2025-09-22T11:22:58]     INFO ?           --\n",
      "[2025-09-22T11:22:58]     INFO +   pi: 3.14\n"
     ]
    }
   ],
   "source": [
    "!uw config compare --path1 ci03.nml --path2 b.nml"
   ]
  },
  {
   "cell_type": "markdown",
   "id": "291b3138-5ac4-4d9c-8171-4597ab1e75c0",
   "metadata": {},
   "source": [
    "### No diffs"
   ]
  },
  {
   "cell_type": "code",
   "execution_count": 22,
   "id": "faf8b1d7-ffb2-4a44-ae53-432533581fca",
   "metadata": {},
   "outputs": [
    {
     "name": "stdout",
     "output_type": "stream",
     "text": [
      "[2025-09-22T11:22:58]     INFO - b.ini\n",
      "[2025-09-22T11:22:58]     INFO + b.ini\n"
     ]
    }
   ],
   "source": [
    "!uw config compare --path1 b.ini --path2 b.ini"
   ]
  },
  {
   "cell_type": "code",
   "execution_count": 23,
   "id": "64da1e0e-7b15-4ff4-89e7-abf2387d2cfb",
   "metadata": {},
   "outputs": [
    {
     "name": "stdout",
     "output_type": "stream",
     "text": [
      "[2025-09-22T11:22:59]    ERROR Formats do not match: ini vs nml\n"
     ]
    }
   ],
   "source": [
    "!uw config compare --path1 b.ini --path2 b.nml"
   ]
  },
  {
   "cell_type": "markdown",
   "id": "4334b4b6-c1f2-4eab-8d7c-189b5f9d3b76",
   "metadata": {},
   "source": [
    "# Running Validate\n",
    "\n",
    "* Only validates YAML-formatted files from CLI\n",
    "* Transform (if needed) and then validate"
   ]
  },
  {
   "cell_type": "code",
   "execution_count": 24,
   "id": "c47e7d3a-a29f-44e2-ae09-ece4ed165308",
   "metadata": {},
   "outputs": [
    {
     "name": "stdout",
     "output_type": "stream",
     "text": [
      "usage: uw config validate --schema-file PATH [-h] [--version]\n",
      "                          [--input-file PATH] [--quiet] [--verbose]\n",
      "\n",
      "Validate config\n",
      "\n",
      "Required arguments:\n",
      "  --schema-file PATH\n",
      "      Path to schema file to use for validation\n",
      "\n",
      "Optional arguments:\n",
      "  -h, --help\n",
      "      Show help and exit\n",
      "  --version\n",
      "      Show version info and exit\n",
      "  --input-file PATH, -i PATH\n",
      "      Path to input file (default: read from stdin)\n",
      "  --quiet, -q\n",
      "      Print no logging messages\n",
      "  --verbose, -v\n",
      "      Print all logging messages\n"
     ]
    }
   ],
   "source": [
    "!uw config validate -h"
   ]
  },
  {
   "cell_type": "code",
   "execution_count": 25,
   "id": "4c43342f-85f0-4127-847b-74d39d215163",
   "metadata": {},
   "outputs": [
    {
     "name": "stdout",
     "output_type": "stream",
     "text": [
      "&foo\n",
      "  pi = 3.1415\n",
      "/\n",
      "&bar\n",
      "  one = 1\n",
      "  two = 2\n",
      "  three = 3\n",
      "/\n",
      "\n",
      "\n"
     ]
    }
   ],
   "source": [
    "!cat ci03.nml"
   ]
  },
  {
   "cell_type": "code",
   "execution_count": 26,
   "id": "6a2443cf-1da8-4a77-85f8-2d2177fc5cae",
   "metadata": {},
   "outputs": [
    {
     "name": "stdout",
     "output_type": "stream",
     "text": [
      "{\n",
      "  \"$schema\": \"http://json-schema.org/draft-07/schema#\",\n",
      "  \"additionalProperties\": false,\n",
      "  \"properties\": {\n",
      "    \"bar\": {\n",
      "      \"additionalProperties\": false,\n",
      "      \"properties\": {\n",
      "        \"one\": {\n",
      "          \"minval\": \"1\",\n",
      "          \"type\": \"integer\"\n",
      "        },\n",
      "        \"three\": {\n",
      "          \"type\": \"integer\"\n",
      "        },\n",
      "        \"two\": {\n",
      "          \"type\": \"integer\"\n",
      "        }\n",
      "      },\n",
      "      \"required\": [\n",
      "        \"two\"\n",
      "      ],\n",
      "      \"type\": \"object\"\n",
      "    },\n",
      "    \"foo\": {\n",
      "      \"additionalProperties\": false,\n",
      "      \"properties\": {\n",
      "        \"pi\": {\n",
      "          \"type\": \"number\"\n",
      "        }\n",
      "      },\n",
      "      \"required\": [\n",
      "        \"pi\"\n",
      "      ],\n",
      "      \"type\": \"object\"\n",
      "    }\n",
      "  },\n",
      "  \"required\": [\n",
      "    \"foo\",\n",
      "    \"bar\"\n",
      "  ],\n",
      "  \"type\": \"object\"\n",
      "}\n"
     ]
    }
   ],
   "source": [
    "!cat ci03.jsonschema"
   ]
  },
  {
   "cell_type": "code",
   "execution_count": 27,
   "id": "12267be5-c0ed-4a6a-b8e3-dc19779b2771",
   "metadata": {},
   "outputs": [
    {
     "name": "stdout",
     "output_type": "stream",
     "text": [
      "[2025-09-22T11:23:00]    DEBUG Command: uw config validate --schema-file ci03.jsonschema -v\n",
      "[2025-09-22T11:23:00]    DEBUG [dereference] Dereferencing, current value:\n",
      "[2025-09-22T11:23:00]    DEBUG [dereference]   foo:\n",
      "[2025-09-22T11:23:00]    DEBUG [dereference]     pi: 3.1415\n",
      "[2025-09-22T11:23:00]    DEBUG [dereference]   bar:\n",
      "[2025-09-22T11:23:00]    DEBUG [dereference]     one: 1\n",
      "[2025-09-22T11:23:00]    DEBUG [dereference]     two: 2\n",
      "[2025-09-22T11:23:00]    DEBUG [dereference]     three: 3\n",
      "[2025-09-22T11:23:00]    DEBUG [dereference] Rendering: foo\n",
      "[2025-09-22T11:23:00]    DEBUG [dereference] Rendered: foo\n",
      "[2025-09-22T11:23:00]    DEBUG [dereference] Rendering: pi\n",
      "[2025-09-22T11:23:00]    DEBUG [dereference] Rendered: pi\n",
      "[2025-09-22T11:23:00]    DEBUG [dereference] Accepting: 3.1415\n",
      "[2025-09-22T11:23:00]    DEBUG [dereference] Rendering: bar\n",
      "[2025-09-22T11:23:00]    DEBUG [dereference] Rendered: bar\n",
      "[2025-09-22T11:23:00]    DEBUG [dereference] Rendering: one\n",
      "[2025-09-22T11:23:00]    DEBUG [dereference] Rendered: one\n",
      "[2025-09-22T11:23:00]    DEBUG [dereference] Accepting: 1\n",
      "[2025-09-22T11:23:00]    DEBUG [dereference] Rendering: two\n",
      "[2025-09-22T11:23:00]    DEBUG [dereference] Rendered: two\n",
      "[2025-09-22T11:23:00]    DEBUG [dereference] Accepting: 2\n",
      "[2025-09-22T11:23:00]    DEBUG [dereference] Rendering: three\n",
      "[2025-09-22T11:23:00]    DEBUG [dereference] Rendered: three\n",
      "[2025-09-22T11:23:00]    DEBUG [dereference] Accepting: 3\n",
      "[2025-09-22T11:23:00]    DEBUG [dereference] Dereferencing, final value:\n",
      "[2025-09-22T11:23:00]    DEBUG [dereference]   foo:\n",
      "[2025-09-22T11:23:00]    DEBUG [dereference]     pi: 3.1415\n",
      "[2025-09-22T11:23:00]    DEBUG [dereference]   bar:\n",
      "[2025-09-22T11:23:00]    DEBUG [dereference]     one: 1\n",
      "[2025-09-22T11:23:00]    DEBUG [dereference]     two: 2\n",
      "[2025-09-22T11:23:00]    DEBUG [dereference]     three: 3\n",
      "[2025-09-22T11:23:00]    DEBUG Validating config against external schema file: ci03.jsonschema\n",
      "[2025-09-22T11:23:00]     INFO Schema validation succeeded for config\n"
     ]
    }
   ],
   "source": [
    "!uw config realize -i ci03.nml --output-format yaml | uw config validate --schema-file ci03.jsonschema -v"
   ]
  }
 ],
 "metadata": {
  "kernelspec": {
   "display_name": "Python 3 (ipykernel)",
   "language": "python",
   "name": "python3"
  },
  "language_info": {
   "codemirror_mode": {
    "name": "ipython",
    "version": 3
   },
   "file_extension": ".py",
   "mimetype": "text/x-python",
   "name": "python",
   "nbconvert_exporter": "python",
   "pygments_lexer": "ipython3",
   "version": "3.9.23"
  }
 },
 "nbformat": 4,
 "nbformat_minor": 5
}
