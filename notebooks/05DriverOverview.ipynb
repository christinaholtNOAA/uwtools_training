{
 "cells": [
  {
   "cell_type": "markdown",
   "id": "5a8e2f04-118d-4861-86b2-9fcd79255aa5",
   "metadata": {},
   "source": [
    "# Driver Overview"
   ]
  },
  {
   "cell_type": "markdown",
   "id": "fea98cfd-8498-43f4-93d7-de2414e380fa",
   "metadata": {},
   "source": [
    "Let's run the WPS prep utility `ungrib` to transform a GFS 0-hour forecast GRIB files into initial conditions suitable for WRF or MPAS.\n",
    "\n",
    "First install `ungrib` into our conda environment:"
   ]
  },
  {
   "cell_type": "code",
   "execution_count": 34,
   "id": "4029d3f2-b0da-4a04-bcde-d125c2956f27",
   "metadata": {},
   "outputs": [],
   "source": [
    "%%bash\n",
    "env=$CONDA_PREFIX\n",
    "eval \"$($CONDA shell.bash hook)\"\n",
    "conda activate $env\n",
    "conda install -y -c paul.madden ungrib >install-ungrib.out\n",
    "conda deactivate && conda activate $env"
   ]
  },
  {
   "cell_type": "markdown",
   "id": "e2bd4eba-ed86-4042-9060-f95b65f93150",
   "metadata": {},
   "source": [
    "`cd` into the `configs/` directory:"
   ]
  },
  {
   "cell_type": "code",
   "execution_count": 35,
   "id": "5dd5c0a5-e5e7-405d-bf25-01e61cb169e7",
   "metadata": {},
   "outputs": [],
   "source": [
    "import os\n",
    "os.chdir(\"../configs\")"
   ]
  },
  {
   "cell_type": "markdown",
   "id": "8fd30818-84f9-42b3-b9dd-e14089b21dac",
   "metadata": {},
   "source": [
    "Here's the config we'll use:"
   ]
  },
  {
   "cell_type": "code",
   "execution_count": 36,
   "id": "4cf310ab-4887-4bc8-94bf-9cce060366c5",
   "metadata": {},
   "outputs": [
    {
     "name": "stdout",
     "output_type": "stream",
     "text": [
      "data:\n",
      "  '{{ gfs }}': https://noaa-gfs-bdp-pds.s3.amazonaws.com/gfs.{{ val.yyyymmdd }}/{{ val.hh }}/atmos/gfs.t{{ val.hh }}z.pgrb2.0p25.f000\n",
      "ungrib:\n",
      "  execution:\n",
      "    executable: ungrib\n",
      "  gribfiles:\n",
      "    - '{{ val.gfs }}'\n",
      "  rundir: '{{ val.rundir }}'\n",
      "  start: '{{ cycle }}'\n",
      "  step: 1\n",
      "  stop: '{{ cycle }}'\n",
      "  vtable: '{{ \"WPSFILES\" | env }}/Vtable.GFS'\n",
      "val:\n",
      "  gfs: '{{ val.rundir }}/anl.grib2'\n",
      "  hh: '{{ cycle.strftime(\"%H\") }}'\n",
      "  rundir: '{{ \"PWD\" | env }}/driver-overview'\n",
      "  yyyymmdd: '{{ cycle.strftime(\"%Y%m%d\") }}'\n"
     ]
    }
   ],
   "source": [
    "!cat do00.yaml"
   ]
  },
  {
   "cell_type": "markdown",
   "id": "a5d6bc65-1cfe-4bf4-8d2b-a077d4439680",
   "metadata": {},
   "source": [
    "First, use `uw fs` to stage the GFS GRIB file from AWS:"
   ]
  },
  {
   "cell_type": "code",
   "execution_count": 31,
   "id": "e4b1cd49-49e8-46a3-98c1-dbfbbe17e72f",
   "metadata": {},
   "outputs": [
    {
     "name": "stdout",
     "output_type": "stream",
     "text": [
      "[2025-09-22T18:48:32]     INFO Validating config against internal schema: files-to-stage\n",
      "[2025-09-22T18:48:32]     INFO Schema validation succeeded for fs config\n",
      "[2025-09-22T18:48:32]    ERROR Relative path '{{ gfs }}' requires target directory to be specified\n"
     ]
    }
   ],
   "source": [
    "!uw fs copy -c do00.yaml --key-path data --cycle 2025-09-21T06"
   ]
  },
  {
   "cell_type": "markdown",
   "id": "6e8a19d1-80a1-41f4-ab75-704db5eeb07f",
   "metadata": {},
   "source": [
    "Now run `ungrib` via the UW driver:"
   ]
  },
  {
   "cell_type": "code",
   "execution_count": 33,
   "id": "0e3e1ba0-a15f-45c9-b03f-4347e948f9e7",
   "metadata": {},
   "outputs": [
    {
     "name": "stdout",
     "output_type": "stream",
     "text": [
      "[2025-09-22T18:50:35]     INFO Validating config against internal schema: ungrib\n",
      "[2025-09-22T18:50:35]     INFO Schema validation succeeded for ungrib config\n",
      "[2025-09-22T18:50:35]     INFO Validating config against internal schema: platform\n",
      "[2025-09-22T18:50:35]     INFO Schema validation succeeded for platform config\n",
      "[2025-09-22T18:50:35]     INFO 20250921 06Z ungrib /scratch4/BMC/rtruc/Paul.Madden/uwtools_training/configs/driver-overview/GRIBFILE.AAA: Executing\n",
      "[2025-09-22T18:50:35]     INFO 20250921 06Z ungrib /scratch4/BMC/rtruc/Paul.Madden/uwtools_training/configs/driver-overview/GRIBFILE.AAA: Ready\n",
      "[2025-09-22T18:50:35]  WARNING File {{ \"WPSFILES\" | env }}/Vtable.GFS: Not ready [external asset]\n",
      "[2025-09-22T18:50:35]     INFO 20250921 06Z ungrib GRIB files: Ready\n",
      "[2025-09-22T18:50:35]  WARNING 20250921 06Z ungrib /scratch4/BMC/rtruc/Paul.Madden/uwtools_training/configs/driver-overview/Vtable: Not ready\n",
      "[2025-09-22T18:50:35]  WARNING 20250921 06Z ungrib /scratch4/BMC/rtruc/Paul.Madden/uwtools_training/configs/driver-overview/Vtable: Requires:\n",
      "[2025-09-22T18:50:35]  WARNING 20250921 06Z ungrib /scratch4/BMC/rtruc/Paul.Madden/uwtools_training/configs/driver-overview/Vtable: ✖ File {{ \"WPSFILES\" | env }}/Vtable.GFS\n",
      "[2025-09-22T18:50:35]  WARNING 20250921 06Z ungrib provisioned run directory: Not ready\n",
      "[2025-09-22T18:50:35]  WARNING 20250921 06Z ungrib provisioned run directory: Requires:\n",
      "[2025-09-22T18:50:35]  WARNING 20250921 06Z ungrib provisioned run directory: ✔ 20250921 06Z ungrib GRIB files\n",
      "[2025-09-22T18:50:35]  WARNING 20250921 06Z ungrib provisioned run directory: ✖ 20250921 06Z ungrib /scratch4/BMC/rtruc/Paul.Madden/uwtools_training/configs/driver-overview/Vtable\n",
      "[2025-09-22T18:50:35]  WARNING 20250921 06Z ungrib run via local execution: Not ready\n",
      "[2025-09-22T18:50:35]  WARNING 20250921 06Z ungrib run via local execution: Requires:\n",
      "[2025-09-22T18:50:35]  WARNING 20250921 06Z ungrib run via local execution: ✖ 20250921 06Z ungrib provisioned run directory\n",
      "[2025-09-22T18:50:35]  WARNING 20250921 06Z ungrib run: Not ready\n",
      "[2025-09-22T18:50:35]  WARNING 20250921 06Z ungrib run: Requires:\n",
      "[2025-09-22T18:50:35]  WARNING 20250921 06Z ungrib run: ✖ 20250921 06Z ungrib run via local execution\n"
     ]
    }
   ],
   "source": [
    "!uw ungrib run -c do00.yaml --cycle 2025-09-21T06"
   ]
  },
  {
   "cell_type": "code",
   "execution_count": null,
   "id": "8ceedd76-09b9-4a1a-a9d5-5e7c2f513788",
   "metadata": {},
   "outputs": [],
   "source": []
  }
 ],
 "metadata": {
  "kernelspec": {
   "display_name": "Python 3 (ipykernel)",
   "language": "python",
   "name": "python3"
  },
  "language_info": {
   "codemirror_mode": {
    "name": "ipython",
    "version": 3
   },
   "file_extension": ".py",
   "mimetype": "text/x-python",
   "name": "python",
   "nbconvert_exporter": "python",
   "pygments_lexer": "ipython3",
   "version": "3.9.0"
  }
 },
 "nbformat": 4,
 "nbformat_minor": 5
}
