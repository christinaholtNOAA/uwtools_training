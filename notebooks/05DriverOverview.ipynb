{
 "cells": [
  {
   "cell_type": "markdown",
   "id": "5a8e2f04-118d-4861-86b2-9fcd79255aa5",
   "metadata": {},
   "source": [
    "# Driver Overview"
   ]
  },
  {
   "cell_type": "markdown",
   "id": "fea98cfd-8498-43f4-93d7-de2414e380fa",
   "metadata": {},
   "source": [
    "Let's run the WPS prep utility `ungrib` to transform a GFS 0-hour forecast GRIB files into initial conditions suitable for WRF or MPAS.\n",
    "\n",
    "First `cd` into the `configs/` directory:"
   ]
  },
  {
   "cell_type": "code",
   "execution_count": null,
   "id": "5dd5c0a5-e5e7-405d-bf25-01e61cb169e7",
   "metadata": {},
   "outputs": [],
   "source": [
    "import os, shutil\n",
    "os.chdir(\"../configs\")\n",
    "shutil.rmtree(\"driver-overview\", ignore_errors=True)"
   ]
  },
  {
   "cell_type": "markdown",
   "id": "8fd30818-84f9-42b3-b9dd-e14089b21dac",
   "metadata": {},
   "source": [
    "Here's the config we'll use. Note the additional `platform:` and `ungrib.execution.batchargs:` blocks, which will be necessary for running on the batch system:"
   ]
  },
  {
   "cell_type": "code",
   "execution_count": null,
   "id": "4cf310ab-4887-4bc8-94bf-9cce060366c5",
   "metadata": {},
   "outputs": [],
   "source": [
    "!cat do00.yaml"
   ]
  },
  {
   "cell_type": "markdown",
   "id": "a5d6bc65-1cfe-4bf4-8d2b-a077d4439680",
   "metadata": {},
   "source": [
    "First, use `uw fs` to stage the GFS GRIB file from AWS:"
   ]
  },
  {
   "cell_type": "code",
   "execution_count": null,
   "id": "e4b1cd49-49e8-46a3-98c1-dbfbbe17e72f",
   "metadata": {},
   "outputs": [],
   "source": [
    "!uw fs copy -c do00.yaml --key-path data --cycle 2025-09-21T06"
   ]
  },
  {
   "cell_type": "markdown",
   "id": "6e8a19d1-80a1-41f4-ab75-704db5eeb07f",
   "metadata": {},
   "source": [
    "Now run `ungrib` via the UW driver, locally:"
   ]
  },
  {
   "cell_type": "code",
   "execution_count": null,
   "id": "0e3e1ba0-a15f-45c9-b03f-4347e948f9e7",
   "metadata": {},
   "outputs": [],
   "source": [
    "!uw ungrib run -c do00.yaml --cycle 2025-09-21T06"
   ]
  },
  {
   "cell_type": "markdown",
   "id": "ecb2ef68-4b67-4211-bc08-b63255b78460",
   "metadata": {},
   "source": [
    "See the output:"
   ]
  },
  {
   "cell_type": "code",
   "execution_count": null,
   "id": "12424613-93fa-4e29-b718-622dfbddb5a4",
   "metadata": {},
   "outputs": [],
   "source": [
    "!tree driver-overview"
   ]
  },
  {
   "cell_type": "markdown",
   "id": "33f993db-31e3-4a67-aded-7814a164b0bb",
   "metadata": {},
   "source": [
    "Note that an invocation again is a no-op:"
   ]
  },
  {
   "cell_type": "code",
   "execution_count": null,
   "id": "3b967fa0-d23f-463d-ac58-6777d2c7109a",
   "metadata": {},
   "outputs": [],
   "source": [
    "!uw ungrib run -c do00.yaml --cycle 2025-09-21T06"
   ]
  },
  {
   "cell_type": "markdown",
   "id": "b220caa5-f16d-4066-8105-53cd55999f93",
   "metadata": {},
   "source": [
    "The `ungrib` driver views its `runscript.ungrib.done` file as evidence of its readiness, so we'll need to remove it to force re-execution. We'll also remove `runscript.ungrib` so that it gets recreated with batch directives -- remember, drivers are idempotent, and `runscript.ungrib` already exists. For brevity, we'll just remove `runscript.ungrib*`."
   ]
  },
  {
   "cell_type": "code",
   "execution_count": null,
   "id": "8f6c2ed0-f6b3-404d-9817-adce81d49a95",
   "metadata": {},
   "outputs": [],
   "source": [
    "%%bash\n",
    "rm -fv driver-overview/runscript.ungrib*\n",
    "uw ungrib run -c do00.yaml --cycle 2025-09-21T06 --batch\n",
    "squeue -u $USER"
   ]
  },
  {
   "cell_type": "markdown",
   "id": "21293230-197f-45a3-ab45-4e093ed40747",
   "metadata": {},
   "source": [
    "After a short time..."
   ]
  },
  {
   "cell_type": "code",
   "execution_count": null,
   "id": "a1aaa1ea-1116-4b2b-bbc7-c8b4032aa3f7",
   "metadata": {},
   "outputs": [],
   "source": [
    "%%bash\n",
    "squeue -u $USER\n",
    "tree driver-overview"
   ]
  },
  {
   "cell_type": "markdown",
   "id": "1924ec7b-6b56-48da-98fb-443d70c60c4f",
   "metadata": {},
   "source": [
    "Note the new batch directives in `runscript.ungrib`:"
   ]
  },
  {
   "cell_type": "code",
   "execution_count": null,
   "id": "605cd16f-fcf2-4d28-803a-387676d4c552",
   "metadata": {},
   "outputs": [],
   "source": [
    "!cat driver-overview/runscript.ungrib"
   ]
  },
  {
   "cell_type": "markdown",
   "id": "db1ccf08-c60e-4865-be95-de28351cb8e2",
   "metadata": {},
   "source": [
    "We can also execute just parts of the driver's task graph. Let's see the available tasks:"
   ]
  },
  {
   "cell_type": "code",
   "execution_count": null,
   "id": "a7950ceb-5d91-41ea-a979-14733c20710c",
   "metadata": {},
   "outputs": [],
   "source": [
    "!uw ungrib --help"
   ]
  },
  {
   "cell_type": "markdown",
   "id": "50de94d0-ee21-47ac-bd37-a1dcc45250f5",
   "metadata": {},
   "source": [
    "Let's remove the run directory and this time ask just for the namelist file:"
   ]
  },
  {
   "cell_type": "code",
   "execution_count": null,
   "id": "f004c108-6a4b-4991-b1bc-02a3d8d35fcc",
   "metadata": {},
   "outputs": [],
   "source": [
    "%%bash\n",
    "rm -rf driver-overview\n",
    "uw ungrib namelist_file -c do00.yaml --cycle 2025-09-21T06"
   ]
  },
  {
   "cell_type": "code",
   "execution_count": null,
   "id": "b9e3eb2b-752c-4602-b77b-6ff279123bf3",
   "metadata": {},
   "outputs": [],
   "source": [
    "!tree driver-overview"
   ]
  },
  {
   "cell_type": "code",
   "execution_count": null,
   "id": "b577ddd0-a48f-47d6-b7bd-812dbeda3ea5",
   "metadata": {},
   "outputs": [],
   "source": [
    "cat driver-overview/namelist.wps"
   ]
  },
  {
   "cell_type": "markdown",
   "id": "2efce0d2-35a8-4064-acd0-98cdb190e743",
   "metadata": {},
   "source": [
    "Expand that request to the full provisioned run directory:"
   ]
  },
  {
   "cell_type": "code",
   "execution_count": null,
   "id": "e0a5e7a8-0efa-4839-9695-30e5f245cf06",
   "metadata": {},
   "outputs": [],
   "source": [
    "!uw ungrib provisioned_rundir -c do00.yaml --cycle 2025-09-21T06"
   ]
  },
  {
   "cell_type": "markdown",
   "id": "7cd41abc-df60-48ae-9644-f536e540df6c",
   "metadata": {},
   "source": [
    "Note two interesting things:\n",
    "1. The namelist file was not recreated, because it was created by the previous invocation.\n",
    "2. Since we removed the full run directory, including the GFS GRIB file, `uw` reports that the `provisioned_rundir` task is not complete: It needs the GRIB file to be complete. We can stage that, then re-run the driver:"
   ]
  },
  {
   "cell_type": "code",
   "execution_count": null,
   "id": "6b1808aa-ea79-47b2-85e3-2aed46de34fd",
   "metadata": {},
   "outputs": [],
   "source": [
    "!uw fs copy -c do00.yaml --key-path data --cycle 2025-09-21T06"
   ]
  },
  {
   "cell_type": "code",
   "execution_count": null,
   "id": "62372914-a3fd-4bca-a425-d810d16891fc",
   "metadata": {},
   "outputs": [],
   "source": [
    "!uw ungrib provisioned_rundir -c do00.yaml --cycle 2025-09-21T06"
   ]
  },
  {
   "cell_type": "markdown",
   "id": "3bbef77b-0bc3-4e4e-a36f-4f2ed147facc",
   "metadata": {},
   "source": [
    "Now the run directory is fully provisioned. We could run ungrib with `uw ungrib run`, or even run its `runscript.ungrib` directly. For experimental purposes, we could even manually edit any of the run-directory files first, then execute the run."
   ]
  },
  {
   "cell_type": "code",
   "execution_count": null,
   "id": "e7b843c4-23a2-471b-9851-db0a08309195",
   "metadata": {},
   "outputs": [],
   "source": [
    "!rm -rf driver-overview"
   ]
  }
 ],
 "metadata": {
  "kernelspec": {
   "display_name": "Python 3 (ipykernel)",
   "language": "python",
   "name": "python3"
  },
  "language_info": {
   "codemirror_mode": {
    "name": "ipython",
    "version": 3
   },
   "file_extension": ".py",
   "mimetype": "text/x-python",
   "name": "python",
   "nbconvert_exporter": "python",
   "pygments_lexer": "ipython3",
   "version": "3.13.7"
  }
 },
 "nbformat": 4,
 "nbformat_minor": 5
}
