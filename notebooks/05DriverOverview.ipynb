{
 "cells": [
  {
   "cell_type": "markdown",
   "id": "5a8e2f04-118d-4861-86b2-9fcd79255aa5",
   "metadata": {},
   "source": [
    "# Driver Overview"
   ]
  },
  {
   "cell_type": "markdown",
   "id": "fea98cfd-8498-43f4-93d7-de2414e380fa",
   "metadata": {},
   "source": [
    "Let's run the WPS prep utility `ungrib` to transform a GFS 0-hour forecast GRIB files into initial conditions suitable for WRF or MPAS.\n",
    "\n",
    "First `cd` into the `configs/` directory:"
   ]
  },
  {
   "cell_type": "code",
   "execution_count": 1,
   "id": "5dd5c0a5-e5e7-405d-bf25-01e61cb169e7",
   "metadata": {},
   "outputs": [],
   "source": [
    "import os, shutil\n",
    "os.chdir(\"../configs\")\n",
    "shutil.rmtree(\"driver-overview\", ignore_errors=True)"
   ]
  },
  {
   "cell_type": "markdown",
   "id": "8fd30818-84f9-42b3-b9dd-e14089b21dac",
   "metadata": {},
   "source": [
    "Here's the config we'll use. Note the additional `platform:` and `ungrib.execution.batchargs:` blocks, which will be necessary for running on the batch system:"
   ]
  },
  {
   "cell_type": "code",
   "execution_count": 2,
   "id": "4cf310ab-4887-4bc8-94bf-9cce060366c5",
   "metadata": {},
   "outputs": [
    {
     "name": "stdout",
     "output_type": "stream",
     "text": [
      "data:\n",
      "  '{{ val.gfs }}': https://noaa-gfs-bdp-pds.s3.amazonaws.com/gfs.{{ val.yyyymmdd }}/{{ val.hh }}/atmos/gfs.t{{ val.hh }}z.pgrb2.0p25.f000\n",
      "platform:\n",
      "  account: wrfruc\n",
      "  scheduler: slurm\n",
      "ungrib:\n",
      "  execution:\n",
      "    batchargs:\n",
      "      cores: 1\n",
      "      walltime: \"00:01:00\"\n",
      "    executable: '{{ \"CONDA_PREFIX\" | env }}/bin/ungrib'\n",
      "  gribfiles:\n",
      "    - '{{ val.gfs }}'\n",
      "  rundir: '{{ val.rundir }}'\n",
      "  start: '{{ cycle }}'\n",
      "  step: 1\n",
      "  stop: '{{ cycle }}'\n",
      "  vtable: '{{ \"WPSFILES\" | env }}/Vtable.GFS'\n",
      "val:\n",
      "  gfs: '{{ val.rundir }}/anl.grib2'\n",
      "  hh: '{{ cycle.strftime(\"%H\") }}'\n",
      "  rundir: '{{ \"PWD\" | env }}/driver-overview'\n",
      "  yyyymmdd: '{{ cycle.strftime(\"%Y%m%d\") }}'\n"
     ]
    }
   ],
   "source": [
    "!cat do00.yaml"
   ]
  },
  {
   "cell_type": "markdown",
   "id": "a5d6bc65-1cfe-4bf4-8d2b-a077d4439680",
   "metadata": {},
   "source": [
    "First, use `uw fs` to stage the GFS GRIB file from AWS:"
   ]
  },
  {
   "cell_type": "code",
   "execution_count": 3,
   "id": "e4b1cd49-49e8-46a3-98c1-dbfbbe17e72f",
   "metadata": {},
   "outputs": [
    {
     "name": "stdout",
     "output_type": "stream",
     "text": [
      "[2025-09-22T20:45:30]     INFO Validating config against internal schema: files-to-stage\n",
      "[2025-09-22T20:45:30]     INFO Schema validation succeeded for fs config\n",
      "[2025-09-22T20:45:30]     INFO HTTP https://noaa-gfs-bdp-pds.s3.amazonaws.com/gfs.20250921/06/atmos/gfs.t06z.pgrb2.0p25.f000 -> /scratch4/BMC/rtruc/Paul.Madden/uwtools_training/configs/driver-overview/anl.grib2: Executing\n",
      "[2025-09-22T20:45:45]     INFO HTTP https://noaa-gfs-bdp-pds.s3.amazonaws.com/gfs.20250921/06/atmos/gfs.t06z.pgrb2.0p25.f000 -> /scratch4/BMC/rtruc/Paul.Madden/uwtools_training/configs/driver-overview/anl.grib2: Ready\n",
      "[2025-09-22T20:45:45]     INFO File copies: Ready\n"
     ]
    }
   ],
   "source": [
    "!uw fs copy -c do00.yaml --key-path data --cycle 2025-09-21T06"
   ]
  },
  {
   "cell_type": "markdown",
   "id": "6e8a19d1-80a1-41f4-ab75-704db5eeb07f",
   "metadata": {},
   "source": [
    "Now run `ungrib` via the UW driver, locally:"
   ]
  },
  {
   "cell_type": "code",
   "execution_count": 4,
   "id": "0e3e1ba0-a15f-45c9-b03f-4347e948f9e7",
   "metadata": {},
   "outputs": [
    {
     "name": "stdout",
     "output_type": "stream",
     "text": [
      "[2025-09-22T20:46:48]     INFO Validating config against internal schema: ungrib\n",
      "[2025-09-22T20:46:48]     INFO Schema validation succeeded for ungrib config\n",
      "[2025-09-22T20:46:48]     INFO Validating config against internal schema: platform\n",
      "[2025-09-22T20:46:48]     INFO Schema validation succeeded for platform config\n",
      "[2025-09-22T20:46:48]     INFO 20250921 06Z ungrib /scratch4/BMC/rtruc/Paul.Madden/uwtools_training/configs/driver-overview/GRIBFILE.AAA: Executing\n",
      "[2025-09-22T20:46:48]     INFO 20250921 06Z ungrib /scratch4/BMC/rtruc/Paul.Madden/uwtools_training/configs/driver-overview/GRIBFILE.AAA: Ready\n",
      "[2025-09-22T20:46:48]     INFO 20250921 06Z ungrib /scratch4/BMC/rtruc/Paul.Madden/uwtools_training/configs/driver-overview/namelist.wps: Executing\n",
      "[2025-09-22T20:46:48]     INFO Schema validation succeeded for user-updated config\n",
      "[2025-09-22T20:46:48]     INFO 20250921 06Z ungrib /scratch4/BMC/rtruc/Paul.Madden/uwtools_training/configs/driver-overview/namelist.wps: Ready\n",
      "[2025-09-22T20:46:48]     INFO 20250921 06Z ungrib runscript.ungrib: Executing\n",
      "[2025-09-22T20:46:48]     INFO 20250921 06Z ungrib runscript.ungrib: Ready\n",
      "[2025-09-22T20:46:48]     INFO 20250921 06Z ungrib /scratch4/BMC/rtruc/Paul.Madden/uwtools_training/configs/driver-overview/Vtable: Executing\n",
      "[2025-09-22T20:46:48]     INFO 20250921 06Z ungrib /scratch4/BMC/rtruc/Paul.Madden/uwtools_training/configs/driver-overview/Vtable: Ready\n",
      "[2025-09-22T20:46:48]     INFO 20250921 06Z ungrib GRIB files: Ready\n",
      "[2025-09-22T20:46:48]     INFO 20250921 06Z ungrib provisioned run directory: Ready\n",
      "[2025-09-22T20:46:48]     INFO 20250921 06Z ungrib run via local execution: Executing\n",
      "[2025-09-22T20:46:48]     INFO Running: /scratch4/BMC/rtruc/Paul.Madden/uwtools_training/configs/driver-overview/runscript.ungrib >/scratch4/BMC/rtruc/Paul.Madden/uwtools_training/configs/driver-overview/runscript.ungrib.out 2>&1 in /scratch4/BMC/rtruc/Paul.Madden/uwtools_training/configs/driver-overview\n",
      "[2025-09-22T20:47:10]     INFO 20250921 06Z ungrib run via local execution: Ready\n",
      "[2025-09-22T20:47:10]     INFO 20250921 06Z ungrib run: Ready\n"
     ]
    }
   ],
   "source": [
    "!uw ungrib run -c do00.yaml --cycle 2025-09-21T06"
   ]
  },
  {
   "cell_type": "markdown",
   "id": "ecb2ef68-4b67-4211-bc08-b63255b78460",
   "metadata": {},
   "source": [
    "See the output:"
   ]
  },
  {
   "cell_type": "code",
   "execution_count": 5,
   "id": "12424613-93fa-4e29-b718-622dfbddb5a4",
   "metadata": {},
   "outputs": [
    {
     "name": "stdout",
     "output_type": "stream",
     "text": [
      "\u001b[01;34mdriver-overview\u001b[0m\n",
      "├── \u001b[00manl.grib2\u001b[0m\n",
      "├── \u001b[00mFILE:2025-09-21_06\u001b[0m\n",
      "├── \u001b[01;36mGRIBFILE.AAA\u001b[0m -> \u001b[00m/scratch4/BMC/rtruc/Paul.Madden/uwtools_training/configs/driver-overview/anl.grib2\u001b[0m\n",
      "├── \u001b[00mnamelist.wps\u001b[0m\n",
      "├── \u001b[01;32mrunscript.ungrib\u001b[0m\n",
      "├── \u001b[00mrunscript.ungrib.done\u001b[0m\n",
      "├── \u001b[00mrunscript.ungrib.out\u001b[0m\n",
      "├── \u001b[00mungrib.log\u001b[0m\n",
      "└── \u001b[01;36mVtable\u001b[0m -> \u001b[00m/scratch4/BMC/rtruc/Paul.Madden/conda/envs/uwtools/etc/wps/Vtable.GFS\u001b[0m\n",
      "\n",
      "1 directory, 9 files\n"
     ]
    }
   ],
   "source": [
    "!tree driver-overview"
   ]
  },
  {
   "cell_type": "markdown",
   "id": "33f993db-31e3-4a67-aded-7814a164b0bb",
   "metadata": {},
   "source": [
    "Note that an invocation again is a no-op:"
   ]
  },
  {
   "cell_type": "code",
   "execution_count": 6,
   "id": "3b967fa0-d23f-463d-ac58-6777d2c7109a",
   "metadata": {},
   "outputs": [
    {
     "name": "stdout",
     "output_type": "stream",
     "text": [
      "[2025-09-22T20:47:25]     INFO Validating config against internal schema: ungrib\n",
      "[2025-09-22T20:47:25]     INFO Schema validation succeeded for ungrib config\n",
      "[2025-09-22T20:47:25]     INFO Validating config against internal schema: platform\n",
      "[2025-09-22T20:47:25]     INFO Schema validation succeeded for platform config\n",
      "[2025-09-22T20:47:25]     INFO 20250921 06Z ungrib run: Ready\n"
     ]
    }
   ],
   "source": [
    "!uw ungrib run -c do00.yaml --cycle 2025-09-21T06"
   ]
  },
  {
   "cell_type": "markdown",
   "id": "b220caa5-f16d-4066-8105-53cd55999f93",
   "metadata": {},
   "source": [
    "The `ungrib` driver views its `runscript.ungrib.done` file as evidence of its readiness, so we'll need to remove it to force re-execution. We'll also remove `runscript.ungrib` so that it gets recreated with batch directives -- remember, drivers are idempotent, and `runscript.ungrib` already exists. For brevity, we'll just remove `runscript.ungrib*`."
   ]
  },
  {
   "cell_type": "code",
   "execution_count": 7,
   "id": "8f6c2ed0-f6b3-404d-9817-adce81d49a95",
   "metadata": {},
   "outputs": [
    {
     "name": "stdout",
     "output_type": "stream",
     "text": [
      "removed 'driver-overview/runscript.ungrib'\n",
      "removed 'driver-overview/runscript.ungrib.done'\n",
      "removed 'driver-overview/runscript.ungrib.out'\n"
     ]
    },
    {
     "name": "stderr",
     "output_type": "stream",
     "text": [
      "[2025-09-22T20:48:15]     INFO Validating config against internal schema: ungrib\n",
      "[2025-09-22T20:48:15]     INFO Schema validation succeeded for ungrib config\n",
      "[2025-09-22T20:48:15]     INFO Validating config against internal schema: platform\n",
      "[2025-09-22T20:48:15]     INFO Schema validation succeeded for platform config\n",
      "[2025-09-22T20:48:15]     INFO 20250921 06Z ungrib runscript.ungrib: Executing\n",
      "[2025-09-22T20:48:15]     INFO 20250921 06Z ungrib runscript.ungrib: Ready\n",
      "[2025-09-22T20:48:15]     INFO 20250921 06Z ungrib provisioned run directory: Ready\n",
      "[2025-09-22T20:48:15]     INFO 20250921 06Z ungrib run via batch submission: Executing\n",
      "[2025-09-22T20:48:15]     INFO Running: sbatch /scratch4/BMC/rtruc/Paul.Madden/uwtools_training/configs/driver-overview/runscript.ungrib 2>&1 | tee /scratch4/BMC/rtruc/Paul.Madden/uwtools_training/configs/driver-overview/runscript.ungrib.submit in /scratch4/BMC/rtruc/Paul.Madden/uwtools_training/configs/driver-overview\n",
      "[2025-09-22T20:48:15]     INFO 20250921 06Z ungrib run via batch submission: Ready\n",
      "[2025-09-22T20:48:15]     INFO 20250921 06Z ungrib run: Ready\n"
     ]
    },
    {
     "name": "stdout",
     "output_type": "stream",
     "text": [
      "     JOBID PARTITION  NAME                     USER             STATE        TIME TIME_LIMIT NODES NODELIST(REASON)\n",
      "  16397116 hera       runscript.ungrib         Paul.Madden      PENDING      0:00       1:00     1 (None)\n"
     ]
    }
   ],
   "source": [
    "%%bash\n",
    "rm -fv driver-overview/runscript.ungrib*\n",
    "uw ungrib run -c do00.yaml --cycle 2025-09-21T06 --batch\n",
    "squeue -u $USER"
   ]
  },
  {
   "cell_type": "markdown",
   "id": "21293230-197f-45a3-ab45-4e093ed40747",
   "metadata": {},
   "source": [
    "A little later..."
   ]
  },
  {
   "cell_type": "code",
   "execution_count": 8,
   "id": "a1aaa1ea-1116-4b2b-bbc7-c8b4032aa3f7",
   "metadata": {},
   "outputs": [
    {
     "name": "stdout",
     "output_type": "stream",
     "text": [
      "     JOBID PARTITION  NAME                     USER             STATE        TIME TIME_LIMIT NODES NODELIST(REASON)\n",
      "\u001b[01;34mdriver-overview\u001b[0m\n",
      "├── \u001b[00manl.grib2\u001b[0m\n",
      "├── \u001b[00mFILE:2025-09-21_06\u001b[0m\n",
      "├── \u001b[01;36mGRIBFILE.AAA\u001b[0m -> \u001b[00m/scratch4/BMC/rtruc/Paul.Madden/uwtools_training/configs/driver-overview/anl.grib2\u001b[0m\n",
      "├── \u001b[00mnamelist.wps\u001b[0m\n",
      "├── \u001b[01;32mrunscript.ungrib\u001b[0m\n",
      "├── \u001b[00mrunscript.ungrib.done\u001b[0m\n",
      "├── \u001b[00mrunscript.ungrib.out\u001b[0m\n",
      "├── \u001b[00mrunscript.ungrib.submit\u001b[0m\n",
      "├── \u001b[00mungrib.log\u001b[0m\n",
      "└── \u001b[01;36mVtable\u001b[0m -> \u001b[00m/scratch4/BMC/rtruc/Paul.Madden/conda/envs/uwtools/etc/wps/Vtable.GFS\u001b[0m\n",
      "\n",
      "1 directory, 10 files\n"
     ]
    }
   ],
   "source": [
    "%%bash\n",
    "squeue -u $USER\n",
    "tree driver-overview"
   ]
  },
  {
   "cell_type": "markdown",
   "id": "1924ec7b-6b56-48da-98fb-443d70c60c4f",
   "metadata": {},
   "source": [
    "Note the new batch directives in `runscript.ungrib`:"
   ]
  },
  {
   "cell_type": "code",
   "execution_count": 9,
   "id": "605cd16f-fcf2-4d28-803a-387676d4c552",
   "metadata": {},
   "outputs": [
    {
     "name": "stdout",
     "output_type": "stream",
     "text": [
      "#!/bin/bash\n",
      "\n",
      "#SBATCH --account=wrfruc\n",
      "#SBATCH --chdir=/scratch4/BMC/rtruc/Paul.Madden/uwtools_training/configs/driver-overview\n",
      "#SBATCH --ntasks=1\n",
      "#SBATCH --output=runscript.ungrib.out\n",
      "#SBATCH --time=00:01:00\n",
      "\n",
      "time /scratch4/BMC/rtruc/Paul.Madden/conda/envs/uwtools/bin/ungrib\n",
      "test $? -eq 0 && touch runscript.ungrib.done\n"
     ]
    }
   ],
   "source": [
    "!cat driver-overview/runscript.ungrib"
   ]
  },
  {
   "cell_type": "markdown",
   "id": "db1ccf08-c60e-4865-be95-de28351cb8e2",
   "metadata": {},
   "source": [
    "We can also execute just parts of the driver's task graph. Let's see the available tasks:"
   ]
  },
  {
   "cell_type": "code",
   "execution_count": 10,
   "id": "a7950ceb-5d91-41ea-a979-14733c20710c",
   "metadata": {},
   "outputs": [
    {
     "name": "stdout",
     "output_type": "stream",
     "text": [
      "usage: uw ungrib [-h] [--version] [--show-schema] TASK ...\n",
      "\n",
      "Execute ungrib tasks\n",
      "\n",
      "Optional arguments:\n",
      "  -h, --help\n",
      "      Show help and exit\n",
      "  --version\n",
      "      Show version info and exit\n",
      "  --show-schema\n",
      "      Show driver schema and exit\n",
      "\n",
      "Positional arguments:\n",
      "  TASK\n",
      "    gribfiles\n",
      "      Symlinks to all the GRIB files\n",
      "    namelist_file\n",
      "      The namelist file\n",
      "    provisioned_rundir\n",
      "      Run directory provisioned with all required content\n",
      "    run\n",
      "      A run\n",
      "    runscript\n",
      "      The runscript\n",
      "    show_output\n",
      "      Show the output to be created by this component\n",
      "    validate\n",
      "      Validate the UW driver config\n",
      "    vtable\n",
      "      A symlink to the Vtable file\n"
     ]
    }
   ],
   "source": [
    "!uw ungrib --help"
   ]
  },
  {
   "cell_type": "markdown",
   "id": "50de94d0-ee21-47ac-bd37-a1dcc45250f5",
   "metadata": {},
   "source": [
    "Let's remove the run directory and this time ask just for the namelist file:"
   ]
  },
  {
   "cell_type": "code",
   "execution_count": 11,
   "id": "f004c108-6a4b-4991-b1bc-02a3d8d35fcc",
   "metadata": {},
   "outputs": [
    {
     "name": "stderr",
     "output_type": "stream",
     "text": [
      "[2025-09-22T20:50:54]     INFO Validating config against internal schema: ungrib\n",
      "[2025-09-22T20:50:54]     INFO Schema validation succeeded for ungrib config\n",
      "[2025-09-22T20:50:54]     INFO Validating config against internal schema: platform\n",
      "[2025-09-22T20:50:54]     INFO Schema validation succeeded for platform config\n",
      "[2025-09-22T20:50:54]     INFO 20250921 06Z ungrib /scratch4/BMC/rtruc/Paul.Madden/uwtools_training/configs/driver-overview/namelist.wps: Executing\n",
      "[2025-09-22T20:50:54]     INFO Schema validation succeeded for user-updated config\n",
      "[2025-09-22T20:50:54]     INFO 20250921 06Z ungrib /scratch4/BMC/rtruc/Paul.Madden/uwtools_training/configs/driver-overview/namelist.wps: Ready\n"
     ]
    }
   ],
   "source": [
    "%%bash\n",
    "rm -rf driver-overview\n",
    "uw ungrib namelist_file -c do00.yaml --cycle 2025-09-21T06"
   ]
  },
  {
   "cell_type": "code",
   "execution_count": 12,
   "id": "b9e3eb2b-752c-4602-b77b-6ff279123bf3",
   "metadata": {},
   "outputs": [
    {
     "name": "stdout",
     "output_type": "stream",
     "text": [
      "\u001b[01;34mdriver-overview\u001b[0m\n",
      "└── \u001b[00mnamelist.wps\u001b[0m\n",
      "\n",
      "1 directory, 1 file\n"
     ]
    }
   ],
   "source": [
    "!tree driver-overview"
   ]
  },
  {
   "cell_type": "code",
   "execution_count": 13,
   "id": "b577ddd0-a48f-47d6-b7bd-812dbeda3ea5",
   "metadata": {},
   "outputs": [
    {
     "name": "stdout",
     "output_type": "stream",
     "text": [
      "&share\n",
      "    end_date = '2025-09-21_06:00:00'\n",
      "    interval_seconds = 3600\n",
      "    max_dom = 1\n",
      "    start_date = '2025-09-21_06:00:00'\n",
      "    wrf_core = 'ARW'\n",
      "/\n",
      "\n",
      "&ungrib\n",
      "    out_format = 'WPS'\n",
      "    prefix = 'FILE'\n",
      "/\n"
     ]
    }
   ],
   "source": [
    "cat driver-overview/namelist.wps"
   ]
  },
  {
   "cell_type": "markdown",
   "id": "2efce0d2-35a8-4064-acd0-98cdb190e743",
   "metadata": {},
   "source": [
    "Expand that request to the full provisioned run directory:"
   ]
  },
  {
   "cell_type": "code",
   "execution_count": 14,
   "id": "e0a5e7a8-0efa-4839-9695-30e5f245cf06",
   "metadata": {},
   "outputs": [
    {
     "name": "stdout",
     "output_type": "stream",
     "text": [
      "[2025-09-22T20:51:26]     INFO Validating config against internal schema: ungrib\n",
      "[2025-09-22T20:51:26]     INFO Schema validation succeeded for ungrib config\n",
      "[2025-09-22T20:51:26]     INFO Validating config against internal schema: platform\n",
      "[2025-09-22T20:51:26]     INFO Schema validation succeeded for platform config\n",
      "[2025-09-22T20:51:26]  WARNING File /scratch4/BMC/rtruc/Paul.Madden/uwtools_training/configs/driver-overview/anl.grib2: Not ready [external asset]\n",
      "[2025-09-22T20:51:26]     INFO 20250921 06Z ungrib runscript.ungrib: Executing\n",
      "[2025-09-22T20:51:26]     INFO 20250921 06Z ungrib runscript.ungrib: Ready\n",
      "[2025-09-22T20:51:26]     INFO 20250921 06Z ungrib /scratch4/BMC/rtruc/Paul.Madden/uwtools_training/configs/driver-overview/Vtable: Executing\n",
      "[2025-09-22T20:51:26]     INFO 20250921 06Z ungrib /scratch4/BMC/rtruc/Paul.Madden/uwtools_training/configs/driver-overview/Vtable: Ready\n",
      "[2025-09-22T20:51:26]  WARNING 20250921 06Z ungrib /scratch4/BMC/rtruc/Paul.Madden/uwtools_training/configs/driver-overview/GRIBFILE.AAA: Not ready\n",
      "[2025-09-22T20:51:26]  WARNING 20250921 06Z ungrib /scratch4/BMC/rtruc/Paul.Madden/uwtools_training/configs/driver-overview/GRIBFILE.AAA: Requires:\n",
      "[2025-09-22T20:51:26]  WARNING 20250921 06Z ungrib /scratch4/BMC/rtruc/Paul.Madden/uwtools_training/configs/driver-overview/GRIBFILE.AAA: ✖ File /scratch4/BMC/rtruc/Paul.Madden/uwtools_training/configs/driver-overview/anl.grib2\n",
      "[2025-09-22T20:51:26]  WARNING 20250921 06Z ungrib GRIB files: Not ready\n",
      "[2025-09-22T20:51:26]  WARNING 20250921 06Z ungrib GRIB files: Requires:\n",
      "[2025-09-22T20:51:26]  WARNING 20250921 06Z ungrib GRIB files: ✖ 20250921 06Z ungrib /scratch4/BMC/rtruc/Paul.Madden/uwtools_training/configs/driver-overview/GRIBFILE.AAA\n",
      "[2025-09-22T20:51:26]  WARNING 20250921 06Z ungrib provisioned run directory: Not ready\n",
      "[2025-09-22T20:51:26]  WARNING 20250921 06Z ungrib provisioned run directory: Requires:\n",
      "[2025-09-22T20:51:26]  WARNING 20250921 06Z ungrib provisioned run directory: ✖ 20250921 06Z ungrib GRIB files\n",
      "[2025-09-22T20:51:26]  WARNING 20250921 06Z ungrib provisioned run directory: ✔ 20250921 06Z ungrib runscript.ungrib\n",
      "[2025-09-22T20:51:26]  WARNING 20250921 06Z ungrib provisioned run directory: ✔ 20250921 06Z ungrib /scratch4/BMC/rtruc/Paul.Madden/uwtools_training/configs/driver-overview/Vtable\n"
     ]
    }
   ],
   "source": [
    "!uw ungrib provisioned_rundir -c do00.yaml --cycle 2025-09-21T06"
   ]
  },
  {
   "cell_type": "markdown",
   "id": "7cd41abc-df60-48ae-9644-f536e540df6c",
   "metadata": {},
   "source": [
    "Note two interesting things:\n",
    "1. The namelist file was not recreated, because it was created by the previous invocation.\n",
    "2. Since we removed the full run directory, including the GFS GRIB file, `uw` reports that the `provisioned_rundir` task is not complete: It needs the GRIB file to be complete. We can stage that, then re-run the driver:"
   ]
  },
  {
   "cell_type": "code",
   "execution_count": 15,
   "id": "6b1808aa-ea79-47b2-85e3-2aed46de34fd",
   "metadata": {},
   "outputs": [
    {
     "name": "stdout",
     "output_type": "stream",
     "text": [
      "[2025-09-22T20:51:40]     INFO Validating config against internal schema: files-to-stage\n",
      "[2025-09-22T20:51:40]     INFO Schema validation succeeded for fs config\n",
      "[2025-09-22T20:51:40]     INFO HTTP https://noaa-gfs-bdp-pds.s3.amazonaws.com/gfs.20250921/06/atmos/gfs.t06z.pgrb2.0p25.f000 -> /scratch4/BMC/rtruc/Paul.Madden/uwtools_training/configs/driver-overview/anl.grib2: Executing\n",
      "[2025-09-22T20:52:25]     INFO HTTP https://noaa-gfs-bdp-pds.s3.amazonaws.com/gfs.20250921/06/atmos/gfs.t06z.pgrb2.0p25.f000 -> /scratch4/BMC/rtruc/Paul.Madden/uwtools_training/configs/driver-overview/anl.grib2: Ready\n",
      "[2025-09-22T20:52:25]     INFO File copies: Ready\n"
     ]
    }
   ],
   "source": [
    "!uw fs copy -c do00.yaml --key-path data --cycle 2025-09-21T06"
   ]
  },
  {
   "cell_type": "code",
   "execution_count": 16,
   "id": "62372914-a3fd-4bca-a425-d810d16891fc",
   "metadata": {},
   "outputs": [
    {
     "name": "stdout",
     "output_type": "stream",
     "text": [
      "[2025-09-22T20:55:18]     INFO Validating config against internal schema: ungrib\n",
      "[2025-09-22T20:55:18]     INFO Schema validation succeeded for ungrib config\n",
      "[2025-09-22T20:55:18]     INFO Validating config against internal schema: platform\n",
      "[2025-09-22T20:55:18]     INFO Schema validation succeeded for platform config\n",
      "[2025-09-22T20:55:18]     INFO 20250921 06Z ungrib /scratch4/BMC/rtruc/Paul.Madden/uwtools_training/configs/driver-overview/GRIBFILE.AAA: Executing\n",
      "[2025-09-22T20:55:18]     INFO 20250921 06Z ungrib /scratch4/BMC/rtruc/Paul.Madden/uwtools_training/configs/driver-overview/GRIBFILE.AAA: Ready\n",
      "[2025-09-22T20:55:18]     INFO 20250921 06Z ungrib GRIB files: Ready\n",
      "[2025-09-22T20:55:18]     INFO 20250921 06Z ungrib provisioned run directory: Ready\n"
     ]
    }
   ],
   "source": [
    "!uw ungrib provisioned_rundir -c do00.yaml --cycle 2025-09-21T06"
   ]
  },
  {
   "cell_type": "markdown",
   "id": "3bbef77b-0bc3-4e4e-a36f-4f2ed147facc",
   "metadata": {},
   "source": [
    "Now the run directory is fully provisioned. We could run ungrib with `uw ungrib run`, or even run its `runscript.ungrib` directly. For experimental purposes, we could even manually edit any of the run-directory files first, then execute the run."
   ]
  },
  {
   "cell_type": "code",
   "execution_count": 17,
   "id": "e7b843c4-23a2-471b-9851-db0a08309195",
   "metadata": {},
   "outputs": [],
   "source": [
    "!rm -rf driver-overview"
   ]
  }
 ],
 "metadata": {
  "kernelspec": {
   "display_name": "Python 3 (ipykernel)",
   "language": "python",
   "name": "python3"
  },
  "language_info": {
   "codemirror_mode": {
    "name": "ipython",
    "version": 3
   },
   "file_extension": ".py",
   "mimetype": "text/x-python",
   "name": "python",
   "nbconvert_exporter": "python",
   "pygments_lexer": "ipython3",
   "version": "3.13.7"
  }
 },
 "nbformat": 4,
 "nbformat_minor": 5
}
