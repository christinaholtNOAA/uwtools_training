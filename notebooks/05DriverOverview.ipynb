{
 "cells": [
  {
   "cell_type": "markdown",
   "id": "5a8e2f04-118d-4861-86b2-9fcd79255aa5",
   "metadata": {},
   "source": [
    "# Driver Overview"
   ]
  },
  {
   "cell_type": "markdown",
   "id": "fea98cfd-8498-43f4-93d7-de2414e380fa",
   "metadata": {},
   "source": [
    "Let's run the WPS prep utility `ungrib` to transform a GFS 0-hour forecast GRIB files into initial conditions suitable for WRF or MPAS.\n",
    "\n",
    "First `cd` into the `configs/` directory:"
   ]
  },
  {
   "cell_type": "code",
   "execution_count": 1,
   "id": "5dd5c0a5-e5e7-405d-bf25-01e61cb169e7",
   "metadata": {},
   "outputs": [],
   "source": [
    "import os, shutil\n",
    "os.chdir(\"../configs\")\n",
    "shutil.rmtree(\"driver-overview\", ignore_errors=True)"
   ]
  },
  {
   "cell_type": "markdown",
   "id": "8fd30818-84f9-42b3-b9dd-e14089b21dac",
   "metadata": {},
   "source": [
    "Here's the config we'll use. Note the additional `platform:` and `ungrib.execution.batchargs:` blocks, which will be necessary for running on the batch system:"
   ]
  },
  {
   "cell_type": "code",
   "execution_count": 2,
   "id": "4cf310ab-4887-4bc8-94bf-9cce060366c5",
   "metadata": {},
   "outputs": [
    {
     "name": "stdout",
     "output_type": "stream",
     "text": [
      "data:\n",
      "  '{{ val.gfs }}': https://noaa-gfs-bdp-pds.s3.amazonaws.com/gfs.{{ val.yyyymmdd }}/{{ val.hh }}/atmos/gfs.t{{ val.hh }}z.pgrb2.0p25.f000\n",
      "platform:\n",
      "  account: wrfruc\n",
      "  scheduler: slurm\n",
      "ungrib:\n",
      "  execution:\n",
      "    batchargs:\n",
      "      cores: 1\n",
      "      walltime: \"00:01:00\"\n",
      "    executable: '{{ \"CONDA_PREFIX\" | env }}/bin/ungrib'\n",
      "  gribfiles:\n",
      "    - '{{ val.gfs }}'\n",
      "  rundir: '{{ val.rundir }}'\n",
      "  start: '{{ cycle }}'\n",
      "  step: 1\n",
      "  stop: '{{ cycle }}'\n",
      "  vtable: '{{ \"WPSFILES\" | env }}/Vtable.GFS'\n",
      "val:\n",
      "  gfs: '{{ val.rundir }}/anl.grib2'\n",
      "  hh: '{{ cycle.strftime(\"%H\") }}'\n",
      "  rundir: '{{ \"PWD\" | env }}/driver-overview'\n",
      "  yyyymmdd: '{{ cycle.strftime(\"%Y%m%d\") }}'\n"
     ]
    }
   ],
   "source": [
    "!cat do00.yaml"
   ]
  },
  {
   "cell_type": "markdown",
   "id": "a5d6bc65-1cfe-4bf4-8d2b-a077d4439680",
   "metadata": {},
   "source": [
    "First, use `uw fs` to stage the GFS GRIB file from AWS:"
   ]
  },
  {
   "cell_type": "code",
   "execution_count": 3,
   "id": "e4b1cd49-49e8-46a3-98c1-dbfbbe17e72f",
   "metadata": {},
   "outputs": [
    {
     "name": "stdout",
     "output_type": "stream",
     "text": [
      "[2025-09-22T19:51:15]     INFO Validating config against internal schema: files-to-stage\n",
      "[2025-09-22T19:51:15]     INFO Schema validation succeeded for fs config\n",
      "[2025-09-22T19:51:15]     INFO HTTP https://noaa-gfs-bdp-pds.s3.amazonaws.com/gfs.20250921/06/atmos/gfs.t06z.pgrb2.0p25.f000 -> /scratch4/BMC/rtruc/Paul.Madden/uwtools_training/configs/driver-overview/anl.grib2: Executing\n",
      "[2025-09-22T19:54:59]     INFO HTTP https://noaa-gfs-bdp-pds.s3.amazonaws.com/gfs.20250921/06/atmos/gfs.t06z.pgrb2.0p25.f000 -> /scratch4/BMC/rtruc/Paul.Madden/uwtools_training/configs/driver-overview/anl.grib2: Ready\n",
      "[2025-09-22T19:54:59]     INFO File copies: Ready\n"
     ]
    }
   ],
   "source": [
    "!uw fs copy -c do00.yaml --key-path data --cycle 2025-09-21T06"
   ]
  },
  {
   "cell_type": "markdown",
   "id": "6e8a19d1-80a1-41f4-ab75-704db5eeb07f",
   "metadata": {},
   "source": [
    "Now run `ungrib` via the UW driver, locally:"
   ]
  },
  {
   "cell_type": "code",
   "execution_count": 4,
   "id": "0e3e1ba0-a15f-45c9-b03f-4347e948f9e7",
   "metadata": {},
   "outputs": [
    {
     "name": "stdout",
     "output_type": "stream",
     "text": [
      "[2025-09-22T19:55:43]     INFO Validating config against internal schema: ungrib\n",
      "[2025-09-22T19:55:43]     INFO Schema validation succeeded for ungrib config\n",
      "[2025-09-22T19:55:43]     INFO Validating config against internal schema: platform\n",
      "[2025-09-22T19:55:43]     INFO Schema validation succeeded for platform config\n",
      "[2025-09-22T19:55:43]     INFO 20250921 06Z ungrib /scratch4/BMC/rtruc/Paul.Madden/uwtools_training/configs/driver-overview/GRIBFILE.AAA: Executing\n",
      "[2025-09-22T19:55:43]     INFO 20250921 06Z ungrib /scratch4/BMC/rtruc/Paul.Madden/uwtools_training/configs/driver-overview/GRIBFILE.AAA: Ready\n",
      "[2025-09-22T19:55:43]     INFO 20250921 06Z ungrib /scratch4/BMC/rtruc/Paul.Madden/uwtools_training/configs/driver-overview/namelist.wps: Executing\n",
      "[2025-09-22T19:55:43]     INFO Schema validation succeeded for user-updated config\n",
      "[2025-09-22T19:55:43]     INFO 20250921 06Z ungrib /scratch4/BMC/rtruc/Paul.Madden/uwtools_training/configs/driver-overview/namelist.wps: Ready\n",
      "[2025-09-22T19:55:43]     INFO 20250921 06Z ungrib runscript.ungrib: Executing\n",
      "[2025-09-22T19:55:43]     INFO 20250921 06Z ungrib runscript.ungrib: Ready\n",
      "[2025-09-22T19:55:43]     INFO 20250921 06Z ungrib /scratch4/BMC/rtruc/Paul.Madden/uwtools_training/configs/driver-overview/Vtable: Executing\n",
      "[2025-09-22T19:55:43]     INFO 20250921 06Z ungrib /scratch4/BMC/rtruc/Paul.Madden/uwtools_training/configs/driver-overview/Vtable: Ready\n",
      "[2025-09-22T19:55:43]     INFO 20250921 06Z ungrib GRIB files: Ready\n",
      "[2025-09-22T19:55:43]     INFO 20250921 06Z ungrib provisioned run directory: Ready\n",
      "[2025-09-22T19:55:43]     INFO 20250921 06Z ungrib run via local execution: Executing\n",
      "[2025-09-22T19:55:43]     INFO Running: /scratch4/BMC/rtruc/Paul.Madden/uwtools_training/configs/driver-overview/runscript.ungrib >/scratch4/BMC/rtruc/Paul.Madden/uwtools_training/configs/driver-overview/runscript.ungrib.out 2>&1 in /scratch4/BMC/rtruc/Paul.Madden/uwtools_training/configs/driver-overview\n",
      "[2025-09-22T19:56:06]     INFO 20250921 06Z ungrib run via local execution: Ready\n",
      "[2025-09-22T19:56:06]     INFO 20250921 06Z ungrib run: Ready\n"
     ]
    }
   ],
   "source": [
    "!uw ungrib run -c do00.yaml --cycle 2025-09-21T06"
   ]
  },
  {
   "cell_type": "markdown",
   "id": "ecb2ef68-4b67-4211-bc08-b63255b78460",
   "metadata": {},
   "source": [
    "See the output:"
   ]
  },
  {
   "cell_type": "code",
   "execution_count": 5,
   "id": "12424613-93fa-4e29-b718-622dfbddb5a4",
   "metadata": {},
   "outputs": [
    {
     "name": "stdout",
     "output_type": "stream",
     "text": [
      "\u001b[01;34mdriver-overview\u001b[0m\n",
      "├── \u001b[00manl.grib2\u001b[0m\n",
      "├── \u001b[00mFILE:2025-09-21_06\u001b[0m\n",
      "├── \u001b[01;36mGRIBFILE.AAA\u001b[0m -> \u001b[00m/scratch4/BMC/rtruc/Paul.Madden/uwtools_training/configs/driver-overview/anl.grib2\u001b[0m\n",
      "├── \u001b[00mnamelist.wps\u001b[0m\n",
      "├── \u001b[01;32mrunscript.ungrib\u001b[0m\n",
      "├── \u001b[00mrunscript.ungrib.done\u001b[0m\n",
      "├── \u001b[00mrunscript.ungrib.out\u001b[0m\n",
      "├── \u001b[00mungrib.log\u001b[0m\n",
      "└── \u001b[01;36mVtable\u001b[0m -> \u001b[00m/tmp/pm/conda/envs/DEV-uwtools/etc/wps/Vtable.GFS\u001b[0m\n",
      "\n",
      "1 directory, 9 files\n"
     ]
    }
   ],
   "source": [
    "!tree driver-overview"
   ]
  },
  {
   "cell_type": "markdown",
   "id": "33f993db-31e3-4a67-aded-7814a164b0bb",
   "metadata": {},
   "source": [
    "Note that an invocation again is a no-op:"
   ]
  },
  {
   "cell_type": "code",
   "execution_count": 6,
   "id": "3b967fa0-d23f-463d-ac58-6777d2c7109a",
   "metadata": {},
   "outputs": [
    {
     "name": "stdout",
     "output_type": "stream",
     "text": [
      "[2025-09-22T19:57:17]     INFO Validating config against internal schema: ungrib\n",
      "[2025-09-22T19:57:17]     INFO Schema validation succeeded for ungrib config\n",
      "[2025-09-22T19:57:17]     INFO Validating config against internal schema: platform\n",
      "[2025-09-22T19:57:17]     INFO Schema validation succeeded for platform config\n",
      "[2025-09-22T19:57:17]     INFO 20250921 06Z ungrib run: Ready\n"
     ]
    }
   ],
   "source": [
    "!uw ungrib run -c do00.yaml --cycle 2025-09-21T06"
   ]
  },
  {
   "cell_type": "markdown",
   "id": "b220caa5-f16d-4066-8105-53cd55999f93",
   "metadata": {},
   "source": [
    "The `ungrib` driver views its `runscript.ungrib.done` file as evidence of its readiness, so we'll need to remove it to force re-execution. We'll also remove `runscript.ungrib` so that it gets recreated with batch directives -- remember, drivers are idempotent, and `runscript.ungrib` already exists. For brevity, we'll just remove `runscript.ungrib*`."
   ]
  },
  {
   "cell_type": "code",
   "execution_count": 7,
   "id": "8f6c2ed0-f6b3-404d-9817-adce81d49a95",
   "metadata": {},
   "outputs": [
    {
     "name": "stdout",
     "output_type": "stream",
     "text": [
      "removed 'driver-overview/runscript.ungrib'\n",
      "removed 'driver-overview/runscript.ungrib.done'\n",
      "removed 'driver-overview/runscript.ungrib.out'\n"
     ]
    },
    {
     "name": "stderr",
     "output_type": "stream",
     "text": [
      "[2025-09-22T20:03:08]     INFO Validating config against internal schema: ungrib\n",
      "[2025-09-22T20:03:08]     INFO Schema validation succeeded for ungrib config\n",
      "[2025-09-22T20:03:08]     INFO Validating config against internal schema: platform\n",
      "[2025-09-22T20:03:08]     INFO Schema validation succeeded for platform config\n",
      "[2025-09-22T20:03:08]     INFO 20250921 06Z ungrib runscript.ungrib: Executing\n",
      "[2025-09-22T20:03:08]     INFO 20250921 06Z ungrib runscript.ungrib: Ready\n",
      "[2025-09-22T20:03:08]     INFO 20250921 06Z ungrib provisioned run directory: Ready\n",
      "[2025-09-22T20:03:08]     INFO 20250921 06Z ungrib run via batch submission: Executing\n",
      "[2025-09-22T20:03:08]     INFO Running: sbatch /scratch4/BMC/rtruc/Paul.Madden/uwtools_training/configs/driver-overview/runscript.ungrib 2>&1 | tee /scratch4/BMC/rtruc/Paul.Madden/uwtools_training/configs/driver-overview/runscript.ungrib.submit in /scratch4/BMC/rtruc/Paul.Madden/uwtools_training/configs/driver-overview\n",
      "[2025-09-22T20:03:08]     INFO 20250921 06Z ungrib run via batch submission: Ready\n",
      "[2025-09-22T20:03:08]     INFO 20250921 06Z ungrib run: Ready\n"
     ]
    },
    {
     "name": "stdout",
     "output_type": "stream",
     "text": [
      "     JOBID PARTITION  NAME                     USER             STATE        TIME TIME_LIMIT NODES NODELIST(REASON)\n",
      "  16395458 hera       runscript.ungrib         Paul.Madden      PENDING      0:00       1:00     1 (None)\n"
     ]
    }
   ],
   "source": [
    "%%bash\n",
    "rm -fv driver-overview/runscript.ungrib*\n",
    "uw ungrib run -c do00.yaml --cycle 2025-09-21T06 --batch\n",
    "squeue -u $USER"
   ]
  },
  {
   "cell_type": "markdown",
   "id": "21293230-197f-45a3-ab45-4e093ed40747",
   "metadata": {},
   "source": [
    "After a short time..."
   ]
  },
  {
   "cell_type": "code",
   "execution_count": null,
   "id": "a1aaa1ea-1116-4b2b-bbc7-c8b4032aa3f7",
   "metadata": {},
   "outputs": [],
   "source": [
    "%%bash\n",
    "squeue -u $USER\n",
    "tree driver-overview"
   ]
  },
  {
   "cell_type": "markdown",
   "id": "1924ec7b-6b56-48da-98fb-443d70c60c4f",
   "metadata": {},
   "source": [
    "Note the new batch directives in `runscript.ungrib`:"
   ]
  },
  {
   "cell_type": "code",
   "execution_count": null,
   "id": "605cd16f-fcf2-4d28-803a-387676d4c552",
   "metadata": {},
   "outputs": [],
   "source": [
    "!head driver-overview/runscript.ungrib"
   ]
  },
  {
   "cell_type": "code",
   "execution_count": null,
   "id": "f2419ca9-dd85-49e1-81a8-9e47056d58ef",
   "metadata": {},
   "outputs": [],
   "source": []
  },
  {
   "cell_type": "code",
   "execution_count": null,
   "id": "e7b843c4-23a2-471b-9851-db0a08309195",
   "metadata": {},
   "outputs": [],
   "source": [
    "!rm -rf driver-overview"
   ]
  }
 ],
 "metadata": {
  "kernelspec": {
   "display_name": "Python 3 (ipykernel)",
   "language": "python",
   "name": "python3"
  },
  "language_info": {
   "codemirror_mode": {
    "name": "ipython",
    "version": 3
   },
   "file_extension": ".py",
   "mimetype": "text/x-python",
   "name": "python",
   "nbconvert_exporter": "python",
   "pygments_lexer": "ipython3",
   "version": "3.9.0"
  }
 },
 "nbformat": 4,
 "nbformat_minor": 5
}
