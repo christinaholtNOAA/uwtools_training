{
 "cells": [
  {
   "cell_type": "markdown",
   "id": "024c89a6-51be-4bd5-a949-66b797bb9325",
   "metadata": {},
   "source": [
    "# Filesystem (`fs`) Mode"
   ]
  },
  {
   "cell_type": "markdown",
   "id": "e627442e-1e5d-4601-8ef7-a272fb0ce0e8",
   "metadata": {},
   "source": [
    "Set up our `PATH` so we can use the `fsdemo` script:"
   ]
  },
  {
   "cell_type": "code",
   "execution_count": 1,
   "id": "947f8493-9112-4a95-bb31-77b64716acac",
   "metadata": {},
   "outputs": [],
   "source": [
    "import os\n",
    "d = \"../bin\"\n",
    "if d not in os.environ[\"PATH\"].split(\":\"):\n",
    "    os.environ[\"PATH\"] += f\":{d}\""
   ]
  },
  {
   "cell_type": "markdown",
   "id": "38c96caa-76f6-4fa3-93a6-22f4de35e50a",
   "metadata": {},
   "source": [
    "**Note:** The examples that follow call a helper script, `fsdemo`, from the code cells. The actual `uw` commands are shown in the output cells, preceded by `+`, and can be replicated in a shell when run from the `configs/` directory, possibly with the `--cycle` value updated to a more recent date."
   ]
  },
  {
   "cell_type": "markdown",
   "id": "a4163a64-6116-4d67-9f43-fd7ef9536115",
   "metadata": {},
   "source": [
    "## Idempotence\n",
    "\n",
    "`fs` actions are _idempotent_: They only create their destination objects (files, links, directories) once, so subsequent invocations using the same config do nothing if there's nothing to be done:"
   ]
  },
  {
   "cell_type": "code",
   "execution_count": 2,
   "id": "baa58986-581f-46ee-92ba-5ee870ed8be9",
   "metadata": {},
   "outputs": [
    {
     "name": "stdout",
     "output_type": "stream",
     "text": [
      "fs00.yaml:\n",
      "\n",
      "yy: '{{ cycle.strftime(\"%y\") }}'\n",
      "ord: '{{ cycle.strftime(\"%j\") }}'\n",
      "hh: '{{ cycle.strftime(\"%H\") }}'\n",
      "fh: '{{ \"%06d\" % (leadtime.total_seconds() / 3600) }}'\n",
      "to_link:\n",
      "  /tmp/fsdemo/gribfile: /public/data/grids/gfs/0p25deg/grib2/{{ yy }}{{ ord }}{{ hh }}{{ fh }}\n",
      "\n"
     ]
    },
    {
     "name": "stderr",
     "output_type": "stream",
     "text": [
      "+ uw fs link -c ../configs/fs00.yaml --key-path to_link --cycle 2025-09-21T12 --leadtime 6\n",
      "[2025-09-22T13:17:53]     INFO Validating config against internal schema: files-to-stage\n",
      "[2025-09-22T13:17:53]     INFO Schema validation succeeded for fs config\n",
      "[2025-09-22T13:17:53]     INFO Symlink /tmp/fsdemo/gribfile -> /public/data/grids/gfs/0p25deg/grib2/2526412000006: Executing\n",
      "[2025-09-22T13:17:53]     INFO Symlink /tmp/fsdemo/gribfile -> /public/data/grids/gfs/0p25deg/grib2/2526412000006: Ready\n",
      "[2025-09-22T13:17:53]     INFO File links: Ready\n"
     ]
    }
   ],
   "source": [
    "%%bash\n",
    "rm -rf /tmp/fsdemo\n",
    "fsdemo fs00 link --key-path to_link --cycle 2025-09-21T12 --leadtime 6"
   ]
  },
  {
   "cell_type": "code",
   "execution_count": 3,
   "id": "221129f8-2dae-44ca-bac6-3a597b420016",
   "metadata": {},
   "outputs": [
    {
     "name": "stdout",
     "output_type": "stream",
     "text": [
      "[2025-09-22T13:17:53]     INFO Validating config against internal schema: files-to-stage\n",
      "[2025-09-22T13:17:53]     INFO Schema validation succeeded for fs config\n",
      "[2025-09-22T13:17:53]     INFO File links: Ready\n"
     ]
    }
   ],
   "source": [
    "!uw fs link -c ../configs/fs00.yaml --key-path to_link --cycle 2025-09-21T12 --leadtime 6"
   ]
  },
  {
   "cell_type": "code",
   "execution_count": 4,
   "id": "e9f5fd39-1fd6-4b89-aebe-88b418fdaf5b",
   "metadata": {},
   "outputs": [
    {
     "name": "stdout",
     "output_type": "stream",
     "text": [
      "removed '/tmp/fsdemo/gribfile'\n"
     ]
    },
    {
     "name": "stderr",
     "output_type": "stream",
     "text": [
      "[2025-09-22T13:17:54]     INFO Validating config against internal schema: files-to-stage\n",
      "[2025-09-22T13:17:54]     INFO Schema validation succeeded for fs config\n",
      "[2025-09-22T13:17:54]     INFO Symlink /tmp/fsdemo/gribfile -> /public/data/grids/gfs/0p25deg/grib2/2526412000006: Executing\n",
      "[2025-09-22T13:17:54]     INFO Symlink /tmp/fsdemo/gribfile -> /public/data/grids/gfs/0p25deg/grib2/2526412000006: Ready\n",
      "[2025-09-22T13:17:54]     INFO File links: Ready\n"
     ]
    }
   ],
   "source": [
    "%%bash\n",
    "rm -fv /tmp/fsdemo/gribfile\n",
    "uw fs link -c ../configs/fs00.yaml --key-path to_link --cycle 2025-09-21T12 --leadtime 6"
   ]
  },
  {
   "cell_type": "code",
   "execution_count": 5,
   "id": "371d7b83-82a6-4123-b29c-47c72d37c326",
   "metadata": {},
   "outputs": [],
   "source": [
    "!rm -rf /tmp/fsdemo"
   ]
  }
 ],
 "metadata": {
  "kernelspec": {
   "display_name": "Python 3 (ipykernel)",
   "language": "python",
   "name": "python3"
  },
  "language_info": {
   "codemirror_mode": {
    "name": "ipython",
    "version": 3
   },
   "file_extension": ".py",
   "mimetype": "text/x-python",
   "name": "python",
   "nbconvert_exporter": "python",
   "pygments_lexer": "ipython3",
   "version": "3.9.0"
  }
 },
 "nbformat": 4,
 "nbformat_minor": 5
}
