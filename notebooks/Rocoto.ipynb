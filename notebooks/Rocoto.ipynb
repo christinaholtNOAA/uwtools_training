{
 "cells": [
  {
   "cell_type": "markdown",
   "id": "2cacb2d9-3686-4381-b104-811cd19c0d92",
   "metadata": {},
   "source": [
    "# Configuring Rocoto workflows\n",
    "\n",
    "The `uw rocoto` tool has three modes:\n",
    "\n",
    "* `realize` -- creates a Rocoto XML from a UW YAML\n",
    "* `validate` -- uses the UW framework to validate a Rocoto XML without needing to have a Rocoto installation\n",
    "* `iterate` -- runs a Rocoto XML to completion through a specified task\n",
    "\n",
    "For examples of how to use these CLI tools, go to the __[Rocoto UW docs](https://uwtools.readthedocs.io/en/main/sections/user_guide/cli/tools/rocoto.html)__.\n",
    "\n",
    "# Building a UW YAML for Rocoto\n",
    "\n",
    "We'll start by building a UW YAML config describing the Rocoto workflow that will run the cycling experiment's tasks. Use the __[UW YAML Rocoto Workflows](https://uwtools.readthedocs.io/en/main/sections/user_guide/yaml/rocoto.html)__ docs to get going."
   ]
  },
  {
   "cell_type": "code",
   "execution_count": null,
   "id": "20d78952-8dda-4d1a-952c-0974d0021fff",
   "metadata": {},
   "outputs": [],
   "source": [
    "import os\n",
    "from pathlib import Path\n",
    "\n",
    "# IN BASH: export configs=/path/to/uwtools_training/configs\n",
    "os.environ[\"configs\"] = str(Path(\".\").resolve().parent / \"configs\")"
   ]
  },
  {
   "cell_type": "markdown",
   "id": "dd33d6e9-a8e0-4d90-bc53-99f03488f5ea",
   "metadata": {},
   "source": [
    "## The workflow section"
   ]
  },
  {
   "cell_type": "code",
   "execution_count": null,
   "id": "2cf6e3b7-3bc0-4137-9b65-5ef3879cec5f",
   "metadata": {},
   "outputs": [],
   "source": [
    "!head -n 20 $configs/rocoto_workflow.yaml "
   ]
  },
  {
   "cell_type": "markdown",
   "id": "0d66ce84-15f2-46da-8e37-98cbfe61ced9",
   "metadata": {
    "jp-MarkdownHeadingCollapsed": true
   },
   "source": [
    "## Adding a task\n",
    "\n",
    "Docs: __[Defining Tasks](https://uwtools.readthedocs.io/en/main/sections/user_guide/yaml/rocoto.html#defining-tasks)__\n",
    "\n",
    "* The UW YAML key should be `task_` followed by an arbitrary name. This name will be shown in `rocotostat` output.\n",
    "* Values can be string references to XML entities, Jinja2 expressions, hard-coded values.\n",
    "* Don't use the `--batch` flag when running UW drivers: Rocoto handles submitting jobs to the batch system.\n",
    "* Use Rocoto-supplied information for date-time flexibility.\n",
    "* A `jobname` variable, reflecting the arbitrary name following `task_`, will be supplied by `uwtools` for use in Jinja2 expressions.\n"
   ]
  },
  {
   "cell_type": "markdown",
   "id": "b53a67c9-824e-4089-86f8-b4ffda1e2067",
   "metadata": {},
   "source": [
    "# Check the progress\n",
    "\n",
    "Run the `uw rocoto realize` tool to validate the YAML and attempt to create an XML."
   ]
  },
  {
   "cell_type": "code",
   "execution_count": null,
   "id": "c6fda5bd-99cb-4d58-a053-78f466221a7f",
   "metadata": {
    "scrolled": true
   },
   "outputs": [],
   "source": [
    "!uw rocoto realize -c $configs/rocoto_workflow.yaml -o workflow.xml"
   ]
  },
  {
   "cell_type": "markdown",
   "id": "117ac85a-e1f4-48fb-b5ea-d020d38f1ae3",
   "metadata": {},
   "source": [
    "## OOPS!\n",
    "The `rocoto_workflow.yaml` doesn't have all the values it needs. Let's compose a more complete YAML on the fly."
   ]
  },
  {
   "cell_type": "code",
   "execution_count": null,
   "id": "fbfa480f-26f1-431d-8e19-7ddd6bff5238",
   "metadata": {},
   "outputs": [],
   "source": [
    "%%bash\n",
    "realize_args=(\n",
    "    -i $configs/prepare_bcs.yaml\n",
    "    -u $configs/rocoto_one_task.yaml\n",
    ")\n",
    "    \n",
    "uw config realize ${realize_args[*]} | uw rocoto realize -o workflow.xml\n",
    "cat workflow.xml"
   ]
  },
  {
   "cell_type": "markdown",
   "id": "d97f4a8f-7af6-4675-bb16-745e7e8a9482",
   "metadata": {},
   "source": [
    "## Adding a metatask\n",
    "\n",
    "Docs: __[Defining Metatasks](https://uwtools.readthedocs.io/en/main/sections/user_guide/yaml/rocoto.html#defining-metatasks)__\n",
    "\n",
    "* Metatask blocks require a `var:` block and one more `task_` or `metatask_` blocks.\n",
    "* The `var:` block has at least one key/value pair to define the iteration loop."
   ]
  },
  {
   "cell_type": "code",
   "execution_count": null,
   "id": "cff59e56-045d-44ed-bcdb-2688f39349cb",
   "metadata": {},
   "outputs": [],
   "source": [
    "%%bash\n",
    "realize_args=(\n",
    "    -i $configs/prepare_bcs.yaml\n",
    "    -u $configs/rocoto_with_metatask.yaml   \n",
    ")\n",
    "\n",
    "uw config realize ${realize_args[*]} | uw rocoto realize -o workflow.xml"
   ]
  },
  {
   "cell_type": "code",
   "execution_count": null,
   "id": "b57c3ff7-3471-48f3-8835-103f1bcf02b9",
   "metadata": {},
   "outputs": [],
   "source": [
    "!cat workflow.xml"
   ]
  },
  {
   "cell_type": "markdown",
   "id": "7b73d850-024b-410b-9336-4e573a5e6273",
   "metadata": {},
   "source": [
    "## Adding dependencies to a task\n",
    "\n",
    "Docs: __[The dependency: key](https://uwtools.readthedocs.io/en/main/sections/user_guide/yaml/rocoto.html#the-dependency-key)__\n",
    "\n",
    "* UW Rocoto YAML follows the same structure as Rocoto XML\n",
    "* YAML keys must be unique at the same level, so all *dependencies* take an optional suffix after an underscore, e.g., `_arbitrary`, where `arbitrary` can be any unique string identifier. This identifier is not used by Rocoto, but is used when referenced by Jinja2 expressions. While they are not required, they can also be useful to make some dependencies clearer and more human-readable."
   ]
  },
  {
   "cell_type": "code",
   "execution_count": null,
   "id": "c27f3a02-4780-48a4-b510-2855ec452a1a",
   "metadata": {},
   "outputs": [],
   "source": [
    "%%bash \n",
    "uw config realize -i $configs/fv3_config.yaml -u $configs/gsi_config.yaml | \\\n",
    "    uw config realize -u $configs/prepare_bcs.yaml | \\\n",
    "    uw config realize -u $configs/rocoto_workflow.yaml | \\\n",
    "    uw rocoto realize -o workflow.xml"
   ]
  },
  {
   "cell_type": "code",
   "execution_count": null,
   "id": "8556a987-18a1-4f95-bd17-257c4cb1a650",
   "metadata": {
    "scrolled": true
   },
   "outputs": [],
   "source": [
    "!cat workflow.xml"
   ]
  },
  {
   "cell_type": "markdown",
   "id": "39a9c4ae-8b88-4ab5-9058-7d071a819133",
   "metadata": {},
   "source": [
    "## Use `compose` tool \n",
    "\n",
    "* A helper tool that reduces the need for repeated piping.\n",
    "* Configs increase in priority from left to right. Last one takes most precedence."
   ]
  },
  {
   "cell_type": "code",
   "execution_count": null,
   "id": "e9bde8ea-a0a4-436d-9dbe-d1db369b0732",
   "metadata": {
    "scrolled": true
   },
   "outputs": [],
   "source": [
    "%%bash\n",
    "file_list=(\n",
    "    $configs/fv3_config.yaml\n",
    "    $configs/gsi_config.yaml\n",
    "    $configs/prepare_bcs.yaml\n",
    "    $configs/rocoto_workflow.yaml\n",
    ")\n",
    "uw config compose ${file_list[*]} -o experiment.yaml"
   ]
  },
  {
   "cell_type": "code",
   "execution_count": null,
   "id": "50b00cb5-3b16-4204-930d-65a95a22a2b5",
   "metadata": {
    "scrolled": true
   },
   "outputs": [],
   "source": [
    "!cat experiment.yaml"
   ]
  },
  {
   "cell_type": "markdown",
   "id": "7ef6d7ed-8e31-41b1-99ff-ac7607c56464",
   "metadata": {},
   "source": [
    "### `compose` and `realize`"
   ]
  },
  {
   "cell_type": "code",
   "execution_count": null,
   "id": "30ecafae-986d-4b58-a6b8-cd1ca9563f61",
   "metadata": {},
   "outputs": [],
   "source": [
    "%%bash\n",
    "file_list=(\n",
    "    $configs/fv3_config.yaml\n",
    "    $configs/gsi_config.yaml\n",
    "    $configs/prepare_bcs.yaml\n",
    "    $configs/rocoto_workflow.yaml\n",
    ")\n",
    "uw config compose ${file_list[*]} -o experiment.yaml --realize"
   ]
  },
  {
   "cell_type": "code",
   "execution_count": null,
   "id": "9fcda07f-70aa-43d0-a88c-a8429f099414",
   "metadata": {},
   "outputs": [],
   "source": [
    "!cat experiment.yaml"
   ]
  },
  {
   "cell_type": "markdown",
   "id": "9e3e87fb-9407-49bb-869f-b04a5a913b6e",
   "metadata": {},
   "source": [
    "## Visually inspect the Rocoto XML\n",
    "\n",
    "* Check to make sure there are no remaining Jinja2 expressions that got past the validator.\n",
    "* Did any loops end up off by one?\n",
    "* Anything else amiss?\n"
   ]
  },
  {
   "cell_type": "markdown",
   "id": "12fd79e2-13bb-4896-8b84-d3b8a85f9561",
   "metadata": {},
   "source": [
    "## Run the Rocoto Workflow\n",
    "\n",
    "Docs: __[uw rocoto iterate](https://uwtools.readthedocs.io/en/main/sections/user_guide/cli/tools/rocoto.html#iterate)__\n",
    "\n",
    "The `uw rocoto iterate` tool iteratively runs `rocotorun` and `rocotostat` in subprocesses at a default interval of 10 s to step through the workflow until a particular cycle and task are complete."
   ]
  },
  {
   "cell_type": "code",
   "execution_count": null,
   "id": "187aba3b-be6a-4e53-a1b7-d33dbcbe3b3f",
   "metadata": {},
   "outputs": [],
   "source": [
    "%%bash\n",
    "module load rocoto\n",
    "uw rocoto iterate -w workflow.xml -d workflow.db --cycle 2025-08-27T13 --task cycled_forecast"
   ]
  }
 ],
 "metadata": {
  "kernelspec": {
   "display_name": "Python 3 (ipykernel)",
   "language": "python",
   "name": "python3"
  },
  "language_info": {
   "codemirror_mode": {
    "name": "ipython",
    "version": 3
   },
   "file_extension": ".py",
   "mimetype": "text/x-python",
   "name": "python",
   "nbconvert_exporter": "python",
   "pygments_lexer": "ipython3",
   "version": "3.9.23"
  }
 },
 "nbformat": 4,
 "nbformat_minor": 5
}
