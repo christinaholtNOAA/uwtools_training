{
 "cells": [
  {
   "cell_type": "markdown",
   "id": "0af49ee7-f350-49ce-962e-fe0b068d97c5",
   "metadata": {},
   "source": [
    "# UW Config Tool\n",
    "\n",
    "The `uw config` tool has four modes:\n",
    "- `realize` -- creates output that is as fully rendered as possible\n",
    "- `compose` -- builds up a final config by repeatedly updating a base config with the contents of other configs of the same format\n",
    "- `compare` -- compares two config files\n",
    "- `validate` -- ensures that a given config file is structured properly\n",
    "\n",
    "We'll focus on `realize` and `compare` CLI in the Intro, and will continue to see examples throughout the tutorial. API examples of these tools are available from the `uwtools` __[Config notebook](https://github.com/ufs-community/uwtools/blob/main/notebooks/config.ipynb)__."
   ]
  },
  {
   "cell_type": "markdown",
   "id": "4d3b4968-ea6b-44dd-8bec-7303be8eba60",
   "metadata": {},
   "source": [
    "# Realize\n",
    "\n",
    "* Default format is YAML.\n",
    "* Supported formats also include INI, Fortran Namelist, Bash.\n",
    "* Can transform between compatible formats. All formats can be transformed to YAML.\n",
    "  "
   ]
  },
  {
   "cell_type": "code",
   "execution_count": 43,
   "id": "97d0f230-5aca-4e77-9863-77d265a2822c",
   "metadata": {
    "scrolled": true
   },
   "outputs": [
    {
     "name": "stdout",
     "output_type": "stream",
     "text": [
      "usage: uw config realize [-h] [--version] [--input-file PATH]\n",
      "                         [--input-format {ini,nml,sh,yaml}]\n",
      "                         [--update-file PATH]\n",
      "                         [--update-format {ini,nml,sh,yaml}]\n",
      "                         [--output-file PATH]\n",
      "                         [--output-format {ini,nml,sh,yaml}]\n",
      "                         [--key-path KEY[.KEY...]] [--values-needed] [--total]\n",
      "                         [--dry-run] [--quiet] [--verbose]\n",
      "\n",
      "Realize config\n",
      "\n",
      "Optional arguments:\n",
      "  -h, --help\n",
      "      Show help and exit\n",
      "  --version\n",
      "      Show version info and exit\n",
      "  --input-file PATH, -i PATH\n",
      "      Path to input file (defaults to stdin)\n",
      "  --input-format {ini,nml,sh,yaml}\n",
      "      Input format\n",
      "  --update-file PATH, -u PATH\n",
      "      Path to update file (defaults to stdin)\n",
      "  --update-format {ini,nml,sh,yaml}\n",
      "      Update format\n",
      "  --output-file PATH, -o PATH\n",
      "      Path to output file (defaults to stdout)\n",
      "  --output-format {ini,nml,sh,yaml}\n",
      "      Output format\n",
      "  --key-path KEY[.KEY...]\n",
      "      Dot-separated path of keys to the block to be output\n",
      "  --values-needed\n",
      "      Print report of values needed to realize config\n",
      "  --total\n",
      "      Require rendering of all Jinja2 variables/expressions\n",
      "  --dry-run\n",
      "      Only log info, making no changes\n",
      "  --quiet, -q\n",
      "      Print no logging messages\n",
      "  --verbose, -v\n",
      "      Print all logging messages\n"
     ]
    }
   ],
   "source": [
    "%%bash\n",
    "uw config realize -h  "
   ]
  },
  {
   "cell_type": "code",
   "execution_count": 44,
   "id": "f0e0d81e-b6af-46d0-890b-0bfc93ad8310",
   "metadata": {
    "scrolled": true
   },
   "outputs": [
    {
     "name": "stdout",
     "output_type": "stream",
     "text": [
      "a:\n",
      "  pi: 3.14\n",
      "b:\n",
      "  foo:\n",
      "    pi: 3.14\n",
      "  bar:\n",
      "    one: 1\n",
      "    two: 2\n",
      "date: '{{ cycle }}'\n"
     ]
    }
   ],
   "source": [
    "%%bash\n",
    "uw config realize -i examples/simple.yaml"
   ]
  },
  {
   "cell_type": "code",
   "execution_count": 45,
   "id": "4e828071-389d-4135-a01b-037d12a75b5d",
   "metadata": {},
   "outputs": [
    {
     "name": "stdout",
     "output_type": "stream",
     "text": [
      "a:\n",
      "  pi: 3.14\n",
      "b:\n",
      "  foo:\n",
      "    pi: 3.14\n",
      "  bar:\n",
      "    one: 1\n",
      "    two: 2\n",
      "date: '2025-09-24 12:00:00'\n",
      "cycle: 2025-09-24T12:00:00\n"
     ]
    }
   ],
   "source": [
    "%%bash\n",
    "echo 'cycle: !datetime 2025-09-24T12' | uw config realize -i examples/simple.yaml --update-format yaml"
   ]
  },
  {
   "cell_type": "code",
   "execution_count": 46,
   "id": "51b6cfe0-00e3-40b2-9463-2e20de9d0ee4",
   "metadata": {},
   "outputs": [
    {
     "name": "stdout",
     "output_type": "stream",
     "text": [
      "foo:\n",
      "  pi: 3.14\n",
      "bar:\n",
      "  one: 1\n",
      "  two: 2\n"
     ]
    }
   ],
   "source": [
    "%%bash\n",
    "echo 'cycle: !datetime 2025-09-24T12' \\\n",
    "  | uw config realize -i examples/simple.yaml --update-format yaml --key-path b"
   ]
  },
  {
   "cell_type": "code",
   "execution_count": 47,
   "id": "02d1311b-5dfd-4e21-8c2f-8a98586b2f63",
   "metadata": {},
   "outputs": [],
   "source": [
    "%%bash\n",
    "echo 'cycle: !datetime 2025-09-24T12' \\\n",
    "  | uw config realize -i examples/simple.yaml --update-format yaml --key-path b -o b.yaml"
   ]
  },
  {
   "cell_type": "code",
   "execution_count": 48,
   "id": "7253bd2c-8ae6-4c4a-8d92-0ec6ed0cf385",
   "metadata": {},
   "outputs": [
    {
     "name": "stdout",
     "output_type": "stream",
     "text": [
      "foo:\n",
      "  pi: 3.14\n",
      "bar:\n",
      "  one: 1\n",
      "  two: 2\n"
     ]
    }
   ],
   "source": [
    "%%bash\n",
    "cat b.yaml"
   ]
  },
  {
   "cell_type": "code",
   "execution_count": 49,
   "id": "b1b4fa4a-18b1-471b-b228-70a1e54d0ff0",
   "metadata": {},
   "outputs": [],
   "source": [
    "%%bash\n",
    "args=(\n",
    "    -i examples/simple.yaml \n",
    "    --update-format yaml\n",
    "    --key-path b\n",
    "    -o b.nml\n",
    ")\n",
    "echo 'cycle: !datetime 2025-09-24T12' | uw config realize ${args[*]}"
   ]
  },
  {
   "cell_type": "code",
   "execution_count": 50,
   "id": "bf09f766-d29c-4e22-80e1-086528f866f5",
   "metadata": {},
   "outputs": [
    {
     "name": "stdout",
     "output_type": "stream",
     "text": [
      "&foo\n",
      "    pi = 3.14\n",
      "/\n",
      "\n",
      "&bar\n",
      "    one = 1\n",
      "    two = 2\n",
      "/\n"
     ]
    }
   ],
   "source": [
    "%%bash\n",
    "cat b.nml"
   ]
  },
  {
   "cell_type": "code",
   "execution_count": 51,
   "id": "8a14795a-7ccb-4a86-a812-8c7cb74f0ea7",
   "metadata": {},
   "outputs": [],
   "source": [
    "%%bash\n",
    "args=(\n",
    "    -i examples/simple.yaml \n",
    "    --update-format yaml\n",
    "    --key-path b\n",
    "    -o b.ini\n",
    ")\n",
    "echo 'cycle: !datetime 2025-09-24T12' | uw config realize ${args[*]}"
   ]
  },
  {
   "cell_type": "code",
   "execution_count": 52,
   "id": "3443394f-6e55-47b9-b4f9-22fc243b87f0",
   "metadata": {},
   "outputs": [
    {
     "name": "stdout",
     "output_type": "stream",
     "text": [
      "[foo]\n",
      "pi = 3.14\n",
      "\n",
      "[bar]\n",
      "one = 1\n",
      "two = 2\n"
     ]
    }
   ],
   "source": [
    "%%bash\n",
    "cat b.ini"
   ]
  },
  {
   "cell_type": "markdown",
   "id": "5da6c874-24b5-4317-96ff-d3f53437470b",
   "metadata": {},
   "source": [
    "# Compare"
   ]
  },
  {
   "cell_type": "code",
   "execution_count": 54,
   "id": "6ec34752-5b76-4b37-9115-a034243d1179",
   "metadata": {},
   "outputs": [
    {
     "name": "stdout",
     "output_type": "stream",
     "text": [
      "usage: uw config compare --path1 PATH --path2 PATH [-h] [--version]\n",
      "                         [--format1 {ini,nml,sh,yaml}]\n",
      "                         [--format2 {ini,nml,sh,yaml}] [--quiet] [--verbose]\n",
      "\n",
      "Compare configs\n",
      "\n",
      "Required arguments:\n",
      "  --path1 PATH\n",
      "      Path to file 1\n",
      "  --path2 PATH\n",
      "      Path to file 2\n",
      "\n",
      "Optional arguments:\n",
      "  -h, --help\n",
      "      Show help and exit\n",
      "  --version\n",
      "      Show version info and exit\n",
      "  --format1 {ini,nml,sh,yaml}\n",
      "      Format of file 1\n",
      "  --format2 {ini,nml,sh,yaml}\n",
      "      Format of file 2\n",
      "  --quiet, -q\n",
      "      Print no logging messages\n",
      "  --verbose, -v\n",
      "      Print all logging messages\n"
     ]
    }
   ],
   "source": [
    "%%bash\n",
    "uw config compare -h"
   ]
  },
  {
   "cell_type": "code",
   "execution_count": 55,
   "id": "b96c20f3-dd72-4639-9ed0-123d4f83fb33",
   "metadata": {},
   "outputs": [
    {
     "name": "stderr",
     "output_type": "stream",
     "text": [
      "[2025-09-18T17:26:55]     INFO - examples/simple.nml\n",
      "[2025-09-18T17:26:55]     INFO + b.nml\n",
      "[2025-09-18T17:26:55]     INFO ---------------------------------------------------------------------\n",
      "[2025-09-18T17:26:55]     INFO ↓ ? = info | -/+ = line unique to - or + file | blank = matching line\n",
      "[2025-09-18T17:26:55]     INFO ---------------------------------------------------------------------\n",
      "[2025-09-18T17:26:55]     INFO   bar:\n",
      "[2025-09-18T17:26:55]     INFO     one: 1\n",
      "[2025-09-18T17:26:55]     INFO -   three: 3\n",
      "[2025-09-18T17:26:55]     INFO     two: 2\n",
      "[2025-09-18T17:26:55]     INFO   foo:\n",
      "[2025-09-18T17:26:55]     INFO -   pi: 3.1415\n",
      "[2025-09-18T17:26:55]     INFO ?           --\n",
      "[2025-09-18T17:26:55]     INFO +   pi: 3.14\n"
     ]
    },
    {
     "ename": "CalledProcessError",
     "evalue": "Command 'b'uw config compare --path1 examples/simple.nml --path2 b.nml\\n'' returned non-zero exit status 1.",
     "output_type": "error",
     "traceback": [
      "\u001b[0;31m---------------------------------------------------------------------------\u001b[0m",
      "\u001b[0;31mCalledProcessError\u001b[0m                        Traceback (most recent call last)",
      "Cell \u001b[0;32mIn[55], line 1\u001b[0m\n\u001b[0;32m----> 1\u001b[0m \u001b[43mget_ipython\u001b[49m\u001b[43m(\u001b[49m\u001b[43m)\u001b[49m\u001b[38;5;241;43m.\u001b[39;49m\u001b[43mrun_cell_magic\u001b[49m\u001b[43m(\u001b[49m\u001b[38;5;124;43m'\u001b[39;49m\u001b[38;5;124;43mbash\u001b[39;49m\u001b[38;5;124;43m'\u001b[39;49m\u001b[43m,\u001b[49m\u001b[43m \u001b[49m\u001b[38;5;124;43m'\u001b[39;49m\u001b[38;5;124;43m'\u001b[39;49m\u001b[43m,\u001b[49m\u001b[43m \u001b[49m\u001b[38;5;124;43m'\u001b[39;49m\u001b[38;5;124;43muw config compare --path1 examples/simple.nml --path2 b.nml\u001b[39;49m\u001b[38;5;130;43;01m\\n\u001b[39;49;00m\u001b[38;5;124;43m'\u001b[39;49m\u001b[43m)\u001b[49m\n",
      "File \u001b[0;32m~/conda/envs/DEV-uwtools/lib/python3.9/site-packages/IPython/core/interactiveshell.py:2517\u001b[0m, in \u001b[0;36mInteractiveShell.run_cell_magic\u001b[0;34m(self, magic_name, line, cell)\u001b[0m\n\u001b[1;32m   2515\u001b[0m \u001b[38;5;28;01mwith\u001b[39;00m \u001b[38;5;28mself\u001b[39m\u001b[38;5;241m.\u001b[39mbuiltin_trap:\n\u001b[1;32m   2516\u001b[0m     args \u001b[38;5;241m=\u001b[39m (magic_arg_s, cell)\n\u001b[0;32m-> 2517\u001b[0m     result \u001b[38;5;241m=\u001b[39m \u001b[43mfn\u001b[49m\u001b[43m(\u001b[49m\u001b[38;5;241;43m*\u001b[39;49m\u001b[43margs\u001b[49m\u001b[43m,\u001b[49m\u001b[43m \u001b[49m\u001b[38;5;241;43m*\u001b[39;49m\u001b[38;5;241;43m*\u001b[39;49m\u001b[43mkwargs\u001b[49m\u001b[43m)\u001b[49m\n\u001b[1;32m   2519\u001b[0m \u001b[38;5;66;03m# The code below prevents the output from being displayed\u001b[39;00m\n\u001b[1;32m   2520\u001b[0m \u001b[38;5;66;03m# when using magics with decorator @output_can_be_silenced\u001b[39;00m\n\u001b[1;32m   2521\u001b[0m \u001b[38;5;66;03m# when the last Python token in the expression is a ';'.\u001b[39;00m\n\u001b[1;32m   2522\u001b[0m \u001b[38;5;28;01mif\u001b[39;00m \u001b[38;5;28mgetattr\u001b[39m(fn, magic\u001b[38;5;241m.\u001b[39mMAGIC_OUTPUT_CAN_BE_SILENCED, \u001b[38;5;28;01mFalse\u001b[39;00m):\n",
      "File \u001b[0;32m~/conda/envs/DEV-uwtools/lib/python3.9/site-packages/IPython/core/magics/script.py:154\u001b[0m, in \u001b[0;36mScriptMagics._make_script_magic.<locals>.named_script_magic\u001b[0;34m(line, cell)\u001b[0m\n\u001b[1;32m    152\u001b[0m \u001b[38;5;28;01melse\u001b[39;00m:\n\u001b[1;32m    153\u001b[0m     line \u001b[38;5;241m=\u001b[39m script\n\u001b[0;32m--> 154\u001b[0m \u001b[38;5;28;01mreturn\u001b[39;00m \u001b[38;5;28;43mself\u001b[39;49m\u001b[38;5;241;43m.\u001b[39;49m\u001b[43mshebang\u001b[49m\u001b[43m(\u001b[49m\u001b[43mline\u001b[49m\u001b[43m,\u001b[49m\u001b[43m \u001b[49m\u001b[43mcell\u001b[49m\u001b[43m)\u001b[49m\n",
      "File \u001b[0;32m~/conda/envs/DEV-uwtools/lib/python3.9/site-packages/IPython/core/magics/script.py:314\u001b[0m, in \u001b[0;36mScriptMagics.shebang\u001b[0;34m(self, line, cell)\u001b[0m\n\u001b[1;32m    309\u001b[0m \u001b[38;5;28;01mif\u001b[39;00m args\u001b[38;5;241m.\u001b[39mraise_error \u001b[38;5;129;01mand\u001b[39;00m p\u001b[38;5;241m.\u001b[39mreturncode \u001b[38;5;241m!=\u001b[39m \u001b[38;5;241m0\u001b[39m:\n\u001b[1;32m    310\u001b[0m     \u001b[38;5;66;03m# If we get here and p.returncode is still None, we must have\u001b[39;00m\n\u001b[1;32m    311\u001b[0m     \u001b[38;5;66;03m# killed it but not yet seen its return code. We don't wait for it,\u001b[39;00m\n\u001b[1;32m    312\u001b[0m     \u001b[38;5;66;03m# in case it's stuck in uninterruptible sleep. -9 = SIGKILL\u001b[39;00m\n\u001b[1;32m    313\u001b[0m     rc \u001b[38;5;241m=\u001b[39m p\u001b[38;5;241m.\u001b[39mreturncode \u001b[38;5;129;01mor\u001b[39;00m \u001b[38;5;241m-\u001b[39m\u001b[38;5;241m9\u001b[39m\n\u001b[0;32m--> 314\u001b[0m     \u001b[38;5;28;01mraise\u001b[39;00m CalledProcessError(rc, cell)\n",
      "\u001b[0;31mCalledProcessError\u001b[0m: Command 'b'uw config compare --path1 examples/simple.nml --path2 b.nml\\n'' returned non-zero exit status 1."
     ]
    }
   ],
   "source": [
    "%%bash\n",
    "uw config compare --path1 examples/simple.nml --path2 b.nml"
   ]
  },
  {
   "cell_type": "code",
   "execution_count": 56,
   "id": "faf8b1d7-ffb2-4a44-ae53-432533581fca",
   "metadata": {},
   "outputs": [
    {
     "name": "stderr",
     "output_type": "stream",
     "text": [
      "[2025-09-18T17:28:55]     INFO - b.nml\n",
      "[2025-09-18T17:28:55]     INFO + b.nml\n"
     ]
    }
   ],
   "source": [
    "%%bash\n",
    "uw config compare --path1 b.nml --path2 b.nml"
   ]
  },
  {
   "cell_type": "code",
   "execution_count": null,
   "id": "64da1e0e-7b15-4ff4-89e7-abf2387d2cfb",
   "metadata": {},
   "outputs": [],
   "source": []
  }
 ],
 "metadata": {
  "kernelspec": {
   "display_name": "Python 3 (ipykernel)",
   "language": "python",
   "name": "python3"
  },
  "language_info": {
   "codemirror_mode": {
    "name": "ipython",
    "version": 3
   },
   "file_extension": ".py",
   "mimetype": "text/x-python",
   "name": "python",
   "nbconvert_exporter": "python",
   "pygments_lexer": "ipython3",
   "version": "3.9.23"
  }
 },
 "nbformat": 4,
 "nbformat_minor": 5
}
