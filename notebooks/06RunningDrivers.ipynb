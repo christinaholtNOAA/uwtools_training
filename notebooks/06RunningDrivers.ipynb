{
 "cells": [
  {
   "cell_type": "markdown",
   "id": "905af3f0-c42a-4434-8820-53f4a19f21d9",
   "metadata": {},
   "source": [
    "# Running drivers\n",
    "\n",
    "Drivers can be run either from **bash** using the `uw` command-line interface (CLI), or from **Python** using the application programming interface (API) provided by the `uwtools.api` namespace. "
   ]
  },
  {
   "cell_type": "markdown",
   "id": "c01d51a0-7c4f-40b4-a631-0a866a380bbb",
   "metadata": {},
   "source": [
    "## Run chgres_cube for initial conditions"
   ]
  },
  {
   "cell_type": "code",
   "execution_count": 17,
   "id": "27177042",
   "metadata": {},
   "outputs": [],
   "source": [
    "# Set up the environment using Python so it's available to each bash subshell below, along with all the Python cells.\n",
    "\n",
    "import os\n",
    "from datetime import datetime, timedelta\n",
    "from pathlib import Path\n",
    "uw_training = \"/scratch4/BMC/wrfruc/elcarpenter/uwtools_training\"\n",
    "os.environ[\"uw_training\"] = uw_training\n",
    "\n",
    "cycle = datetime(2025, 8, 27, 12)"
   ]
  },
  {
   "cell_type": "markdown",
   "id": "dd7d97e6",
   "metadata": {},
   "source": [
    "### With the CLI"
   ]
  },
  {
   "cell_type": "markdown",
   "id": "ba773644",
   "metadata": {},
   "source": [
    "To make the commands below copy-and-paste friendly, you'll need to export your working directory as an enviornment variable."
   ]
  },
  {
   "cell_type": "code",
   "execution_count": 18,
   "id": "d173d3e5",
   "metadata": {},
   "outputs": [],
   "source": [
    "%%script bash -l\n",
    "export uw_training=$(pwd)"
   ]
  },
  {
   "cell_type": "markdown",
   "id": "25ebe769",
   "metadata": {},
   "source": [
    "The `--help` or `-h` flag is available for all modes and actions."
   ]
  },
  {
   "cell_type": "code",
   "execution_count": 19,
   "id": "361f764f",
   "metadata": {},
   "outputs": [
    {
     "name": "stdout",
     "output_type": "stream",
     "text": [
      "usage: uw chgres_cube [-h] [--version] [--show-schema] TASK ...\n",
      "\n",
      "Execute chgres_cube tasks\n",
      "\n",
      "Optional arguments:\n",
      "  -h, --help\n",
      "      Show help and exit\n",
      "  --version\n",
      "      Show version info and exit\n",
      "  --show-schema\n",
      "      Show driver schema and exit\n",
      "\n",
      "Positional arguments:\n",
      "  TASK\n",
      "    namelist_file\n",
      "      The namelist file\n",
      "    provisioned_rundir\n",
      "      Run directory provisioned with all required content\n",
      "    run\n",
      "      A run\n",
      "    runscript\n",
      "      The runscript\n",
      "    show_output\n",
      "      Show the output to be created by this component\n",
      "    validate\n",
      "      Validate the UW driver config\n"
     ]
    }
   ],
   "source": [
    "%%script bash -l\n",
    "uw chgres_cube -h"
   ]
  },
  {
   "cell_type": "markdown",
   "id": "c953fa56",
   "metadata": {},
   "source": [
    "Before running the driver, you can always validate your configuration file against our schema."
   ]
  },
  {
   "cell_type": "code",
   "execution_count": 20,
   "id": "6a1d01ca",
   "metadata": {},
   "outputs": [
    {
     "name": "stderr",
     "output_type": "stream",
     "text": [
      "[2025-09-23T02:16:04]     INFO Validating config against internal schema: chgres-cube\n",
      "[2025-09-23T02:16:04]     INFO Schema validation succeeded for chgres_cube config\n",
      "[2025-09-23T02:16:04]     INFO Validating config against internal schema: platform\n",
      "[2025-09-23T02:16:04]     INFO Schema validation succeeded for platform config\n",
      "[2025-09-23T02:16:04]     INFO 20250827 12:00:00 chgres_cube valid schema: Ready\n"
     ]
    }
   ],
   "source": [
    "%%script bash -l\n",
    "args=(\n",
    "    -c $uw_training/configs/prepare_bcs.yaml\n",
    "    --key-path make_ics\n",
    "    --cycle 2025-08-27T12\n",
    "    --leadtime 0\n",
    ")\n",
    "uw chgres_cube validate ${args[*]} "
   ]
  },
  {
   "cell_type": "markdown",
   "id": "1dcc8c0b",
   "metadata": {},
   "source": [
    "The `provisioned_rundir` task will prepare the run directory with all required content."
   ]
  },
  {
   "cell_type": "code",
   "execution_count": 21,
   "id": "113aac4f",
   "metadata": {},
   "outputs": [
    {
     "name": "stderr",
     "output_type": "stream",
     "text": [
      "[2025-09-23T02:16:07]     INFO Validating config against internal schema: chgres-cube\n",
      "[2025-09-23T02:16:07]     INFO Schema validation succeeded for chgres_cube config\n",
      "[2025-09-23T02:16:07]     INFO Validating config against internal schema: platform\n",
      "[2025-09-23T02:16:07]     INFO Schema validation succeeded for platform config\n",
      "[2025-09-23T02:16:07]     INFO 20250827 12:00:00 chgres_cube provisioned run directory: Ready\n"
     ]
    }
   ],
   "source": [
    "%%script bash -l\n",
    "args=(\n",
    "    -c $uw_training/configs/prepare_bcs.yaml\n",
    "    --key-path make_ics\n",
    "    --cycle 2025-08-27T12\n",
    "    --leadtime 0\n",
    "    --batch\n",
    ")\n",
    "uw chgres_cube provisioned_rundir ${args[*]}"
   ]
  },
  {
   "cell_type": "markdown",
   "id": "fbebecf3",
   "metadata": {},
   "source": [
    "`show_output` will display the output to be created by this component. "
   ]
  },
  {
   "cell_type": "code",
   "execution_count": 22,
   "id": "5be66df8",
   "metadata": {},
   "outputs": [
    {
     "name": "stderr",
     "output_type": "stream",
     "text": [
      "[2025-09-23T02:16:10]     INFO Validating config against internal schema: chgres-cube\n",
      "[2025-09-23T02:16:10]     INFO Schema validation succeeded for chgres_cube config\n",
      "[2025-09-23T02:16:10]     INFO Validating config against internal schema: platform\n",
      "[2025-09-23T02:16:10]     INFO Schema validation succeeded for platform config\n"
     ]
    },
    {
     "name": "stdout",
     "output_type": "stream",
     "text": [
      "{\n",
      "  \"atm\": [\n",
      "    \"/scratch4/BMC/wrfruc/elcarpenter/uwtools_training/rundir/2025082712/ics/out.atm.tile7.nc\"\n",
      "  ],\n",
      "  \"sfc\": [\n",
      "    \"/scratch4/BMC/wrfruc/elcarpenter/uwtools_training/rundir/2025082712/ics/out.sfc.tile7.nc\"\n",
      "  ]\n",
      "}\n"
     ]
    },
    {
     "name": "stderr",
     "output_type": "stream",
     "text": [
      "[2025-09-23T02:16:10]     INFO 20250827 12:00:00 chgres_cube expected output: Ready\n"
     ]
    }
   ],
   "source": [
    "%%script bash -l\n",
    "args=(\n",
    "    -c $uw_training/configs/prepare_bcs.yaml\n",
    "    --key-path make_ics\n",
    "    --cycle 2025-08-27T12\n",
    "    --leadtime 0\n",
    ")\n",
    "uw chgres_cube show_output ${args[*]} "
   ]
  },
  {
   "cell_type": "markdown",
   "id": "ff02c5de",
   "metadata": {},
   "source": [
    "And finally, to run the driver:"
   ]
  },
  {
   "cell_type": "code",
   "execution_count": 23,
   "id": "c09168d2-a6bd-43a1-97cd-f0d2d5bfd35d",
   "metadata": {},
   "outputs": [
    {
     "name": "stderr",
     "output_type": "stream",
     "text": [
      "[2025-09-23T02:16:13]     INFO Validating config against internal schema: chgres-cube\n",
      "[2025-09-23T02:16:13]     INFO Schema validation succeeded for chgres_cube config\n",
      "[2025-09-23T02:16:13]     INFO Validating config against internal schema: platform\n",
      "[2025-09-23T02:16:13]     INFO Schema validation succeeded for platform config\n",
      "[2025-09-23T02:16:13]     INFO 20250827 12:00:00 chgres_cube run: Ready\n"
     ]
    }
   ],
   "source": [
    "%%script bash -l\n",
    "args=(\n",
    "    -c $uw_training/configs/prepare_bcs.yaml\n",
    "    --key-path make_ics\n",
    "    --cycle 2025-08-27T12\n",
    "    --leadtime 0\n",
    "    --batch\n",
    ")\n",
    "uw chgres_cube run ${args[*]}"
   ]
  },
  {
   "cell_type": "markdown",
   "id": "24e2a2c4-3e6a-495f-a7c9-2e1bc6f65dc1",
   "metadata": {},
   "source": [
    "### With the Python API\n",
    "\n",
    "Docs: __[uwtools.api.chgres_cube](https://uwtools.readthedocs.io/en/main/sections/user_guide/api/chgres_cube.html)__\n",
    "\n",
    "This is applicable to all drivers."
   ]
  },
  {
   "cell_type": "code",
   "execution_count": 24,
   "id": "3b84ee33-46ce-4450-8323-ac10e79d5fc6",
   "metadata": {},
   "outputs": [
    {
     "name": "stderr",
     "output_type": "stream",
     "text": [
      "[2025-09-23T02:16:18]     INFO Validating config against internal schema: chgres-cube\n",
      "[2025-09-23T02:16:18]     INFO Schema validation succeeded for chgres_cube config\n",
      "[2025-09-23T02:16:18]     INFO Validating config against internal schema: platform\n",
      "[2025-09-23T02:16:18]     INFO Schema validation succeeded for platform config\n",
      "[2025-09-23T02:16:18]     INFO 20250827 12:00:00 chgres_cube provisioned run directory: Ready\n"
     ]
    },
    {
     "data": {
      "text/plain": [
       "20250827 12:00:00 chgres_cube provisioned run directory <140015618347216>"
      ]
     },
     "execution_count": 24,
     "metadata": {},
     "output_type": "execute_result"
    }
   ],
   "source": [
    "from uwtools.api.chgres_cube import ChgresCube\n",
    "from uwtools.api.logging import use_uwtools_logger\n",
    "\n",
    "use_uwtools_logger()\n",
    "\n",
    "ics = ChgresCube(\n",
    "    config=Path(uw_training, \"configs\", \"prepare_bcs.yaml\"),\n",
    "    cycle=cycle,\n",
    "    leadtime=timedelta(hours=0),\n",
    "    key_path=[\"make_ics\"],\n",
    ")\n",
    "ics.provisioned_rundir()"
   ]
  },
  {
   "cell_type": "code",
   "execution_count": 25,
   "id": "4356ad7c-cede-4eec-b622-2566349adbcc",
   "metadata": {},
   "outputs": [
    {
     "name": "stdout",
     "output_type": "stream",
     "text": [
      "Help on ChgresCube in module uwtools.drivers.chgres_cube object:\n",
      "\n",
      "class ChgresCube(uwtools.drivers.driver.DriverCycleLeadtimeBased)\n",
      " |  ChgresCube(cycle: 'datetime', leadtime: 'timedelta', config: 'dict | str | YAMLConfig | Path | None' = None, key_path: 'list[YAMLKey] | None' = None, batch: 'bool' = False, schema_file: 'Path | None' = None, controller: 'list[YAMLKey] | None' = None)\n",
      " |  \n",
      " |  A driver for chgres_cube.\n",
      " |  \n",
      " |  :param cycle: The cycle.\n",
      " |  :param leadtime: The leadtime.\n",
      " |  :param config: Path to config file (read stdin if missing or None).\n",
      " |  :param key_path: Keys of keys to driver config block.\n",
      " |  :param batch: Run component via the batch system?\n",
      " |  :param schema_file: Path to schema file to use to validate an external driver.\n",
      " |  :param controller: Key(s) leading to block in config controlling run-time values.\n",
      " |  \n",
      " |  Method resolution order:\n",
      " |      ChgresCube\n",
      " |      uwtools.drivers.driver.DriverCycleLeadtimeBased\n",
      " |      uwtools.drivers.driver.Driver\n",
      " |      uwtools.drivers.driver.Assets\n",
      " |      abc.ABC\n",
      " |      builtins.object\n",
      " |  \n",
      " |  Methods defined here:\n",
      " |  \n",
      " |  namelist_file(self)\n",
      " |      The namelist file.\n",
      " |  \n",
      " |  provisioned_rundir(self)\n",
      " |      Run directory provisioned with all required content.\n",
      " |  \n",
      " |  runscript(self)\n",
      " |      The runscript.\n",
      " |  \n",
      " |  ----------------------------------------------------------------------\n",
      " |  Class methods defined here:\n",
      " |  \n",
      " |  driver_name() -> str from abc.ABCMeta\n",
      " |      The name of this driver.\n",
      " |  \n",
      " |  ----------------------------------------------------------------------\n",
      " |  Readonly properties defined here:\n",
      " |  \n",
      " |  output\n",
      " |      Returns a description of the file(s) created when this component runs.\n",
      " |  \n",
      " |  ----------------------------------------------------------------------\n",
      " |  Data and other attributes defined here:\n",
      " |  \n",
      " |  __abstractmethods__ = frozenset()\n",
      " |  \n",
      " |  ----------------------------------------------------------------------\n",
      " |  Methods inherited from uwtools.drivers.driver.DriverCycleLeadtimeBased:\n",
      " |  \n",
      " |  __init__(self, cycle: 'datetime', leadtime: 'timedelta', config: 'dict | str | YAMLConfig | Path | None' = None, key_path: 'list[YAMLKey] | None' = None, batch: 'bool' = False, schema_file: 'Path | None' = None, controller: 'list[YAMLKey] | None' = None)\n",
      " |      Initialize self.  See help(type(self)) for accurate signature.\n",
      " |  \n",
      " |  ----------------------------------------------------------------------\n",
      " |  Readonly properties inherited from uwtools.drivers.driver.DriverCycleLeadtimeBased:\n",
      " |  \n",
      " |  cycle\n",
      " |      The cycle.\n",
      " |  \n",
      " |  leadtime\n",
      " |      The leadtime.\n",
      " |  \n",
      " |  ----------------------------------------------------------------------\n",
      " |  Methods inherited from uwtools.drivers.driver.Driver:\n",
      " |  \n",
      " |  run(self)\n",
      " |      A run.\n",
      " |  \n",
      " |  show_output(self)\n",
      " |      Show the output to be created by this component.\n",
      " |  \n",
      " |  ----------------------------------------------------------------------\n",
      " |  Methods inherited from uwtools.drivers.driver.Assets:\n",
      " |  \n",
      " |  __repr__(self) -> 'str'\n",
      " |      Return repr(self).\n",
      " |  \n",
      " |  __str__(self) -> 'str'\n",
      " |      Return str(self).\n",
      " |  \n",
      " |  namelist_schema(self, config_keys: 'list[YAMLKey] | None' = None, schema_keys: 'list[str] | None' = None) -> 'dict'\n",
      " |      Return the (sub)schema for validating the driver's namelist content.\n",
      " |      \n",
      " |      :param config_keys: Keys leading to the namelist block in the driver config.\n",
      " |      :param schema_keys: Keys leading to the namelist-validating (sub)schema.\n",
      " |  \n",
      " |  taskname(self, suffix: 'str | None' = None) -> 'str'\n",
      " |      Return a common tag for task-related log messages.\n",
      " |      \n",
      " |      :param suffix: Log-string suffix.\n",
      " |  \n",
      " |  validate(self)\n",
      " |      Validate the UW driver config.\n",
      " |  \n",
      " |  ----------------------------------------------------------------------\n",
      " |  Class methods inherited from uwtools.drivers.driver.Assets:\n",
      " |  \n",
      " |  schema() -> 'dict' from abc.ABCMeta\n",
      " |      Return the driver's internal schema.\n",
      " |  \n",
      " |  ----------------------------------------------------------------------\n",
      " |  Static methods inherited from uwtools.drivers.driver.Assets:\n",
      " |  \n",
      " |  create_user_updated_config(config_class: 'type[Config]', config_values: 'dict', path: 'Path', schema: 'dict | None' = None) -> 'None'\n",
      " |      Create a config from a base file, user-provided values, or a combination of the two.\n",
      " |      \n",
      " |      :param config_class: The Config subclass matching the config type.\n",
      " |      :param config_values: The configuration object to update base values with.\n",
      " |      :param path: Path to dump file to.\n",
      " |      :param schema: Schema to validate final config against.\n",
      " |  \n",
      " |  ----------------------------------------------------------------------\n",
      " |  Readonly properties inherited from uwtools.drivers.driver.Assets:\n",
      " |  \n",
      " |  config\n",
      " |      A copy of the driver-specific config.\n",
      " |  \n",
      " |  config_full\n",
      " |      A copy of the original input config, dereferenced.\n",
      " |  \n",
      " |  rundir\n",
      " |      The path to the component's run directory.\n",
      " |  \n",
      " |  ----------------------------------------------------------------------\n",
      " |  Data descriptors inherited from uwtools.drivers.driver.Assets:\n",
      " |  \n",
      " |  __dict__\n",
      " |      dictionary for instance variables (if defined)\n",
      " |  \n",
      " |  __weakref__\n",
      " |      list of weak references to the object (if defined)\n",
      "\n"
     ]
    }
   ],
   "source": [
    "help(ics)"
   ]
  },
  {
   "cell_type": "code",
   "execution_count": 26,
   "id": "b5316533-1382-4694-8c92-089bab7461da",
   "metadata": {},
   "outputs": [
    {
     "data": {
      "text/plain": [
       "{'execution': {'batchargs': {'nodes': 1,\n",
       "   'tasks_per_node': 20,\n",
       "   'walltime': '00:30:00'},\n",
       "  'envcmds': ['module use /scratch3/BMC/wrfruc/cholt/rrfs_work/rrfs-workflow/modulefiles',\n",
       "   'module load build_hera_intel'],\n",
       "  'executable': '/scratch3/BMC/wrfruc/cholt/rrfs_work/rrfs-workflow/exec/chgres_cube',\n",
       "  'mpiargs': ['--export=ALL'],\n",
       "  'mpicmd': 'srun'},\n",
       " 'namelist': {'update_values': {'config': {'convert_atm': True,\n",
       "    'convert_nst': False,\n",
       "    'convert_sfc': True,\n",
       "    'cycle_day': 27,\n",
       "    'cycle_hour': 12,\n",
       "    'cycle_mon': 8,\n",
       "    'data_dir_input_grid': '/scratch3/BMC/wrfruc/cholt/rrfs_work/input_data/gfs',\n",
       "    'external_model': 'GFS',\n",
       "    'fix_dir_target_grid': '/scratch3/BMC/wrfruc/cholt/rrfs_work/FIX_RRFS/lam/RRFS_CONUS_13km_Lake_fracSV',\n",
       "    'grib2_file_input_grid': 'GFS-20250827-12-f000.grib2',\n",
       "    'halo_blend': 20,\n",
       "    'halo_bndy': 4,\n",
       "    'input_type': 'grib2',\n",
       "    'lai_from_climo': True,\n",
       "    'minmax_vgfrc_from_climo': True,\n",
       "    'mosaic_file_target_grid': '/scratch3/BMC/wrfruc/cholt/rrfs_work/FIX_RRFS/lam/RRFS_CONUS_13km_Lake_fracSV/C775_mosaic.halo4.nc',\n",
       "    'nsoill_out': 4,\n",
       "    'orog_dir_target_grid': '/scratch3/BMC/wrfruc/cholt/rrfs_work/FIX_RRFS/lam/RRFS_CONUS_13km_Lake_fracSV',\n",
       "    'orog_files_target_grid': 'C775_oro_data.tile7.halo4.nc',\n",
       "    'regional': 1,\n",
       "    'sotyp_from_climo': True,\n",
       "    'tg3_from_soil': False,\n",
       "    'varmap_file': '/scratch3/BMC/wrfruc/cholt/rrfs_work/rrfs-workflow/sorc/UFS_UTILS/parm/varmap_tables/GFSphys_var_map.txt',\n",
       "    'vcoord_file_target_grid': '/scratch3/BMC/wrfruc/cholt/rrfs_work/FIX_RRFS/am/global_hyblev_fcst_rrfsL65.txt',\n",
       "    'vgfrc_from_climo': True,\n",
       "    'vgtyp_from_climo': True}}},\n",
       " 'rundir': '/scratch4/BMC/wrfruc/elcarpenter/uwtools_training/rundir/2025082712/ics'}"
      ]
     },
     "execution_count": 26,
     "metadata": {},
     "output_type": "execute_result"
    }
   ],
   "source": [
    "ics.config"
   ]
  },
  {
   "cell_type": "code",
   "execution_count": 27,
   "id": "ac2a32f9-1b60-4377-838b-0f8edd5ee0b2",
   "metadata": {},
   "outputs": [
    {
     "data": {
      "text/plain": [
       "{'atm': [PosixPath('/scratch4/BMC/wrfruc/elcarpenter/uwtools_training/rundir/2025082712/ics/out.atm.tile7.nc')],\n",
       " 'sfc': [PosixPath('/scratch4/BMC/wrfruc/elcarpenter/uwtools_training/rundir/2025082712/ics/out.sfc.tile7.nc')]}"
      ]
     },
     "execution_count": 27,
     "metadata": {},
     "output_type": "execute_result"
    }
   ],
   "source": [
    "ics.output"
   ]
  },
  {
   "cell_type": "markdown",
   "id": "7fac0032-d71e-4501-9cbd-00190791d1d4",
   "metadata": {},
   "source": [
    "## Run chgres_cube for lateral boundary conditions\n",
    "\n",
    "Run once for each lead time in a loop. Always point to the same section of the UW YAML."
   ]
  },
  {
   "cell_type": "code",
   "execution_count": null,
   "id": "5d6cd3a1-7676-4ff5-9248-6e1634ab8e33",
   "metadata": {},
   "outputs": [],
   "source": [
    "%%script bash -l\n",
    "for i in $(seq 0 6) ; do \n",
    "  args=(\n",
    "      -c $uw_training/configs/prepare_bcs.yaml\n",
    "      --key-path make_lbcs\n",
    "      --cycle 2025-08-27T12\n",
    "      --leadtime 2\n",
    "      --batch\n",
    "  )\n",
    "  uw chgres_cube run ${args[*]}\n",
    "done"
   ]
  },
  {
   "cell_type": "markdown",
   "id": "0396005d-2a4b-4791-ba44-34007fc7bb36",
   "metadata": {},
   "source": [
    "## Run a cold-start FV3 forecast"
   ]
  },
  {
   "cell_type": "code",
   "execution_count": null,
   "id": "a07e805c-d1db-457a-ac3c-4d5874f15791",
   "metadata": {},
   "outputs": [],
   "source": [
    "%%script bash -l\n",
    "args=(\n",
    "  -c $uw_training/configs/fv3_config.yaml\n",
    "  --key-path forecast_prod\n",
    "  --cycle 2025-08-27T12\n",
    "  --batch \n",
    ")\n",
    "uw fv3 run ${args[*]}"
   ]
  },
  {
   "cell_type": "markdown",
   "id": "45f84f60-7894-4b79-8201-eaee8df2a885",
   "metadata": {},
   "source": [
    "## Run the analysis at the *NEXT* cycle\n",
    "\n",
    "Here, the cycling frequency is 1 hour."
   ]
  },
  {
   "cell_type": "code",
   "execution_count": null,
   "id": "fd97a67a-7f86-48d4-ad93-5602b18e16ac",
   "metadata": {
    "scrolled": true
   },
   "outputs": [],
   "source": [
    "%%script bash -l\n",
    "# The notebook has a hard time displaying the output in a timely manner for the number of links required by GSI. Pipe to a file on disk.\n",
    "args=(\n",
    "    -c $uw_training/configs/gsi_config.yaml\n",
    "    --key-path analysis\n",
    "    --cycle 2025-08-27T13\n",
    "    --batch\n",
    ")\n",
    "uw gsi run ${args[*]} > gsi.out 2>&1"
   ]
  },
  {
   "cell_type": "code",
   "execution_count": null,
   "id": "ef310bf2-81a5-45f2-b8d7-3f88016dd18f",
   "metadata": {
    "scrolled": true
   },
   "outputs": [],
   "source": [
    "%%bash\n",
    "cat gsi.out"
   ]
  },
  {
   "cell_type": "markdown",
   "id": "569df0ee-fd98-43a7-ba28-fe8997f25cb3",
   "metadata": {},
   "source": [
    "## Run a cycled FV3 forecast from the updated analysis \n",
    "\n",
    "* This forecast was configured to run using the lateral boundary conditions from the previous cycle.\n",
    "* It runs a script that removes the checksums from the analysis-update files between staging the files and submitting the job."
   ]
  },
  {
   "cell_type": "code",
   "execution_count": null,
   "id": "906c4455-259c-44df-b9ff-e8ae4ae8ac71",
   "metadata": {},
   "outputs": [],
   "source": [
    "%%bash\n",
    "cat $uw_training/scripts/run_forecast.sh"
   ]
  },
  {
   "cell_type": "code",
   "execution_count": null,
   "id": "cec42ca6-06d8-4dd5-92bc-c2fab8af660d",
   "metadata": {},
   "outputs": [],
   "source": [
    "%%script bash -l\n",
    "$uw_training/scripts/run_forecast.sh $uw_training/configs/fv3_config.yaml 2025-08-27T13"
   ]
  }
 ],
 "metadata": {
  "kernelspec": {
   "display_name": "Python 3 (ipykernel)",
   "language": "python",
   "name": "python3"
  },
  "language_info": {
   "codemirror_mode": {
    "name": "ipython",
    "version": 3
   },
   "file_extension": ".py",
   "mimetype": "text/x-python",
   "name": "python",
   "nbconvert_exporter": "python",
   "pygments_lexer": "ipython3",
   "version": "3.9.7"
  }
 },
 "nbformat": 4,
 "nbformat_minor": 5
}
