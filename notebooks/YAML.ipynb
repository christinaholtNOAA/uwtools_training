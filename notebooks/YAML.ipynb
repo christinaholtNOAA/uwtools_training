{
 "cells": [
  {
   "cell_type": "markdown",
   "id": "0317915c-7d80-4a1d-a3cd-234e5781c27c",
   "metadata": {},
   "source": [
    "# UW YAML Tools and Techniques"
   ]
  },
  {
   "cell_type": "markdown",
   "id": "e9402c4d-d9f5-4b65-a88c-86f7aabfb065",
   "metadata": {},
   "source": [
    "Set up our `PATH` so we can use the `demo` script:"
   ]
  },
  {
   "cell_type": "code",
   "execution_count": 1,
   "id": "d35fec9d-50fc-4032-8ed3-5c3792ad150d",
   "metadata": {},
   "outputs": [],
   "source": [
    "import os\n",
    "d = \"../bin\"\n",
    "if d not in os.environ[\"PATH\"].split(\":\"):\n",
    "    os.environ[\"PATH\"] += f\":{d}\""
   ]
  },
  {
   "cell_type": "markdown",
   "id": "b947b1ee-8531-45dc-80f3-a454cb6580bc",
   "metadata": {},
   "source": [
    "## Native YAML Anchor and Alias\n",
    "\n",
    "Use `&` to define an anchor and `*` to reference the anchored data.\n",
    "\n",
    "Reference a value:"
   ]
  },
  {
   "cell_type": "code",
   "execution_count": 2,
   "id": "01605db8-1a1c-4656-82cb-6356f932ffca",
   "metadata": {},
   "outputs": [
    {
     "name": "stdout",
     "output_type": "stream",
     "text": [
      "tt00.yaml:\n",
      "\n",
      "pi: &pi 3.142\n",
      "constants:\n",
      "  e: 2.718\n",
      "  pi: *pi\n",
      "\n",
      "+ uw config realize -i ../configs/tt00.yaml\n",
      "pi: 3.142\n",
      "constants:\n",
      "  e: 2.718\n",
      "  pi: 3.142\n"
     ]
    }
   ],
   "source": [
    "!realize tt00"
   ]
  },
  {
   "cell_type": "markdown",
   "id": "03731b0b-c02b-44d0-927c-e5dd28d96896",
   "metadata": {},
   "source": [
    "Merge mappings:"
   ]
  },
  {
   "cell_type": "code",
   "execution_count": 3,
   "id": "5fde3235-bf44-4cd4-813a-ea3d120b2ea8",
   "metadata": {},
   "outputs": [
    {
     "name": "stdout",
     "output_type": "stream",
     "text": [
      "tt01.yaml.yaml:\n",
      "\n",
      "cat: ../configs/tt01.yaml.yaml: No such file or directory\n",
      "\n",
      "+ uw config realize -i ../configs/tt01.yaml.yaml\n",
      "Traceback (most recent call last):\n",
      "  File \"/tmp/pm/conda/envs/DEV-uwtools/bin/uw\", line 7, in <module>\n",
      "    sys.exit(main())\n",
      "  File \"/home/Paul.Madden/git/uwtools/src/uwtools/cli.py\", line 100, in main\n",
      "    sys.exit(0 if modes[args[STR.mode]](args) else 1)\n",
      "  File \"/home/Paul.Madden/git/uwtools/src/uwtools/cli.py\", line 226, in _dispatch_config\n",
      "    return actions[args[STR.action]](args)\n",
      "  File \"/home/Paul.Madden/git/uwtools/src/uwtools/cli.py\", line 265, in _dispatch_config_realize\n",
      "    uwtools.api.config.realize(\n",
      "  File \"/home/Paul.Madden/git/uwtools/src/uwtools/api/config.py\", line 149, in realize\n",
      "    return _realize(\n",
      "  File \"/home/Paul.Madden/git/uwtools/src/uwtools/config/tools.py\", line 83, in realize\n",
      "    input_obj = _realize_input_setup(input_config, input_format)\n",
      "  File \"/home/Paul.Madden/git/uwtools/src/uwtools/config/tools.py\", line 180, in _realize_input_setup\n",
      "    config_obj: Config = format_to_config(input_format)(config=input_config)\n",
      "  File \"/home/Paul.Madden/git/uwtools/src/uwtools/config/formats/base.py\", line 46, in __init__\n",
      "    self.data = self._load(self._config_file)\n",
      "  File \"/home/Paul.Madden/git/uwtools/src/uwtools/config/formats/yaml.py\", line 93, in _load\n",
      "    with readable(config_file) as f:\n",
      "  File \"/tmp/pm/conda/envs/DEV-uwtools/lib/python3.9/contextlib.py\", line 117, in __enter__\n",
      "    return next(self.gen)\n",
      "  File \"/home/Paul.Madden/git/uwtools/src/uwtools/utils/file.py\", line 93, in readable\n",
      "    with Path(filepath).open(mode) as f:\n",
      "  File \"/tmp/pm/conda/envs/DEV-uwtools/lib/python3.9/pathlib.py\", line 1241, in open\n",
      "    return io.open(self, mode, buffering, encoding, errors, newline,\n",
      "  File \"/tmp/pm/conda/envs/DEV-uwtools/lib/python3.9/pathlib.py\", line 1109, in _opener\n",
      "    return self._accessor.open(self, flags, mode)\n",
      "FileNotFoundError: [Errno 2] No such file or directory: '../configs/tt01.yaml.yaml'\n"
     ]
    }
   ],
   "source": [
    "!realize tt01.yaml"
   ]
  },
  {
   "cell_type": "markdown",
   "id": "a31897bd-5697-4b4f-bc2d-3c84ae697dfc",
   "metadata": {},
   "source": [
    "But merging mappings is shallow, and can cause problems:"
   ]
  },
  {
   "cell_type": "code",
   "execution_count": 4,
   "id": "702dbb60-fcd2-46c6-a965-63284468ef97",
   "metadata": {},
   "outputs": [
    {
     "name": "stdout",
     "output_type": "stream",
     "text": [
      "tt02.yaml:\n",
      "\n",
      "defaults: &defaults\n",
      "  10m_u_component_of_wind:\n",
      "    level_type: heightAboveGround\n",
      "    name: u_10m\n",
      "gfs:\n",
      "  <<: *defaults\n",
      "  10m_u_component_of_wind:\n",
      "    name: UGRD\n",
      "\n",
      "+ uw config realize -i ../configs/tt02.yaml\n",
      "defaults:\n",
      "  10m_u_component_of_wind:\n",
      "    level_type: heightAboveGround\n",
      "    name: u_10m\n",
      "gfs:\n",
      "  10m_u_component_of_wind:\n",
      "    name: UGRD\n"
     ]
    }
   ],
   "source": [
    "!realize tt02"
   ]
  },
  {
   "cell_type": "markdown",
   "id": "a0ed3432-bf77-4736-a8d7-b3940d39d35b",
   "metadata": {},
   "source": [
    "The `10m_u_component_of_wind` value under `gfs` completely replaced the value from `defaults` instead of just updating the name. This is something that `uw config realize` and `uw config compose` can help with, by doing a deep merge that treats every level independently."
   ]
  },
  {
   "cell_type": "markdown",
   "id": "1c6de42b-3d6c-4629-ae05-292344fd4949",
   "metadata": {},
   "source": [
    "## Jinja2 Expressions\n",
    "\n",
    "The [Jinja2 templating language](https://jinja.palletsprojects.com/en/stable/intro/) lends significant power to the `uwtools` config and `template` modes, supporting hierarchical variable references, computation of values, generation of content with loops, and transformation of values with filters.\n",
    "\n",
    "Here, `uwtools` empowers Jinja2 to refer to values within the YAML document to compute the number of points in a 3D data cube:"
   ]
  },
  {
   "cell_type": "code",
   "execution_count": 5,
   "id": "593c91ae-ab91-46aa-8096-21f2316cd1db",
   "metadata": {},
   "outputs": [
    {
     "name": "stdout",
     "output_type": "stream",
     "text": [
      "tt03.yaml:\n",
      "\n",
      "const:\n",
      "  nx: 1440\n",
      "  ny: 721\n",
      "var:\n",
      "  nlev: 127\n",
      "  points: '{{ const.nx * const.ny * nlev }}'\n",
      "\n",
      "+ uw config realize -i ../configs/tt03.yaml\n",
      "const:\n",
      "  nx: 1440\n",
      "  ny: 721\n",
      "var:\n",
      "  nlev: 127\n",
      "  points: '131856480'\n"
     ]
    }
   ],
   "source": [
    "!realize tt03"
   ]
  },
  {
   "cell_type": "markdown",
   "id": "27169cfb-93ed-4542-9633-1551cd844ddc",
   "metadata": {},
   "source": [
    "- `const.nx` and `const.ny` are absolute references, from the top of the config.\n",
    "- `nlev` is a reative (sibling) reference.\n",
    "- The Jinja2 `{{ ... }}` syntax must be quoted to avoid conflicts with YAML syntax, which leads the computed `points` value being a string. We'll fix this soon."
   ]
  },
  {
   "cell_type": "markdown",
   "id": "a4d8a35b-e0ab-4038-94a0-2360f6e9ed3e",
   "metadata": {},
   "source": [
    "Jinja2 loops can be used to compute compound values:"
   ]
  },
  {
   "cell_type": "code",
   "execution_count": 6,
   "id": "6bd3c29e-3b07-43cb-a56b-2e20126ba207",
   "metadata": {},
   "outputs": [
    {
     "name": "stdout",
     "output_type": "stream",
     "text": [
      "tt04.yaml:\n",
      "\n",
      "leadtimes: '{% for n in range(6, 25, 6) %}{{ \"%03d\" % n }},{% endfor %}'\n",
      "\n",
      "+ uw config realize -i ../configs/tt04.yaml\n",
      "leadtimes: 006,012,018,024,\n"
     ]
    }
   ],
   "source": [
    "!realize tt04"
   ]
  },
  {
   "cell_type": "markdown",
   "id": "17666010-32a9-4946-bd57-7409b24ca1a2",
   "metadata": {},
   "source": [
    "Here, `leadtimes` is again a string value, and we'll do something more useful with it soon."
   ]
  },
  {
   "cell_type": "markdown",
   "id": "ae32e2c7-6326-4a01-a6bd-d615633f1bc4",
   "metadata": {},
   "source": [
    "Finally, Jinja2 provides various [built-in filters](https://jinja.palletsprojects.com/en/stable/templates/#builtin-filters) to transform values:"
   ]
  },
  {
   "cell_type": "code",
   "execution_count": 7,
   "id": "fe8528b1-a218-4b12-a136-9104e4a42fa2",
   "metadata": {},
   "outputs": [
    {
     "name": "stdout",
     "output_type": "stream",
     "text": [
      "tt05.yaml:\n",
      "\n",
      "model_name: FV3\n",
      "variable_name: '{{ model_name | lower }}'\n",
      "\n",
      "+ uw config realize -i ../configs/tt05.yaml\n",
      "model_name: FV3\n",
      "variable_name: fv3\n"
     ]
    }
   ],
   "source": [
    "!realize tt05"
   ]
  },
  {
   "cell_type": "markdown",
   "id": "a64ed414-0e80-42e7-8531-3b4c97d12907",
   "metadata": {},
   "source": [
    "## UW YAML Custom Tags\n",
    "\n",
    "`uwtools` provides a number of [custom YAML tags](https://uwtools.readthedocs.io/en/main/sections/user_guide/yaml/tags.html) that can be used to convert string values -- the normal result of evaluating Jinja2 expressions -- to other types, among other purposes.\n",
    "\n",
    "Returning to examples similar to those seen above:"
   ]
  },
  {
   "cell_type": "code",
   "execution_count": 8,
   "id": "31bd3769-6991-4e4c-98d1-023dd9192331",
   "metadata": {},
   "outputs": [
    {
     "name": "stdout",
     "output_type": "stream",
     "text": [
      "tt06.yaml:\n",
      "\n",
      "nlev: 127\n",
      "nx: 1440\n",
      "ny: 721\n",
      "points: !int '{{ nx * ny * nlev }}'\n",
      "leadtimes: !list '[{% for n in range(6, 25, 6) %}{{ n }},{% endfor %}]'\n",
      "\n",
      "+ uw config realize -i ../configs/tt06.yaml\n",
      "nlev: 127\n",
      "nx: 1440\n",
      "ny: 721\n",
      "points: 131856480\n",
      "leadtimes:\n",
      "- 6\n",
      "- 12\n",
      "- 18\n",
      "- 24\n"
     ]
    }
   ],
   "source": [
    "!realize tt06"
   ]
  },
  {
   "cell_type": "markdown",
   "id": "676e4e12-d2f5-4b5f-8852-34f6274832f1",
   "metadata": {},
   "source": [
    "This time, `points` is in fact an integer value, and `leadtimes` has been expanded into a proper YAML sequence of integer values.\n",
    "\n",
    "Among the other tags available are two for working with time values:"
   ]
  },
  {
   "cell_type": "code",
   "execution_count": 9,
   "id": "6c4b1b32-c6aa-4aac-814e-d32ae489f18b",
   "metadata": {},
   "outputs": [
    {
     "name": "stdout",
     "output_type": "stream",
     "text": [
      "tt07.yaml:\n",
      "\n",
      "cycle: !datetime 2025-09-24T12\n",
      "leadtime: !timedelta 6\n",
      "first_forecast_validtime: !datetime '{{ cycle + leadtime }}'\n",
      "\n",
      "+ uw config realize -i ../configs/tt07.yaml\n",
      "cycle: 2025-09-24T12:00:00\n",
      "leadtime: !timedelta '6:00:00'\n",
      "first_forecast_validtime: 2025-09-24T18:00:00\n"
     ]
    }
   ],
   "source": [
    "!realize tt07"
   ]
  },
  {
   "cell_type": "markdown",
   "id": "db9553ce-8fb7-4087-95ba-bb5a228d6182",
   "metadata": {},
   "source": [
    "Additionally (but not shown here) the `!include` tag can be used to inline another config at a specified point in a config, and `!remove` can be used to eliminate a value from a config when composing multiple configs with `uw config compose` or `uw config realize`. Refer to [the documentation](https://uwtools.readthedocs.io/en/main/sections/user_guide/yaml/tags.html#custom-tags) for more information."
   ]
  },
  {
   "cell_type": "markdown",
   "id": "6ec7649a-6d82-4b16-aca6-00181a3421c5",
   "metadata": {},
   "source": [
    "## The UW YAML `env` Custom Filter\n",
    "\n",
    "`uwtools` defines a custom filter, `env`, providing access to environment variables:"
   ]
  },
  {
   "cell_type": "code",
   "execution_count": 10,
   "id": "e5a4c0b4-d272-4bf2-9533-ed139f7ac6d9",
   "metadata": {},
   "outputs": [
    {
     "name": "stdout",
     "output_type": "stream",
     "text": [
      "tt08.yaml:\n",
      "\n",
      "rundir: '{{ \"HOME\" | env }}/run'\n",
      "\n",
      "+ uw config realize -i ../configs/tt08.yaml\n",
      "rundir: /home/Paul.Madden/run\n"
     ]
    }
   ],
   "source": [
    "!realize tt08"
   ]
  }
 ],
 "metadata": {
  "kernelspec": {
   "display_name": "Python 3 (ipykernel)",
   "language": "python",
   "name": "python3"
  },
  "language_info": {
   "codemirror_mode": {
    "name": "ipython",
    "version": 3
   },
   "file_extension": ".py",
   "mimetype": "text/x-python",
   "name": "python",
   "nbconvert_exporter": "python",
   "pygments_lexer": "ipython3",
   "version": "3.9.0"
  }
 },
 "nbformat": 4,
 "nbformat_minor": 5
}
