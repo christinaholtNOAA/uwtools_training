{
 "cells": [
  {
   "cell_type": "markdown",
   "id": "0317915c-7d80-4a1d-a3cd-234e5781c27c",
   "metadata": {},
   "source": [
    "# UW YAML Tools and Techniques"
   ]
  },
  {
   "cell_type": "markdown",
   "id": "e9402c4d-d9f5-4b65-a88c-86f7aabfb065",
   "metadata": {},
   "source": [
    "Set up our `PATH` so we can use the `demo` script:"
   ]
  },
  {
   "cell_type": "code",
   "execution_count": 1,
   "id": "d35fec9d-50fc-4032-8ed3-5c3792ad150d",
   "metadata": {},
   "outputs": [],
   "source": [
    "import os\n",
    "d = \"../bin\"\n",
    "if d not in os.environ[\"PATH\"].split(\":\"):\n",
    "    os.environ[\"PATH\"] += f\":{d}\""
   ]
  },
  {
   "cell_type": "markdown",
   "id": "b947b1ee-8531-45dc-80f3-a454cb6580bc",
   "metadata": {},
   "source": [
    "## Native YAML Anchor and Alias\n",
    "\n",
    "Use `&` to define an anchor and `*` to reference the anchored data.\n",
    "\n",
    "Reference a value:"
   ]
  },
  {
   "cell_type": "code",
   "execution_count": 2,
   "id": "01605db8-1a1c-4656-82cb-6356f932ffca",
   "metadata": {},
   "outputs": [
    {
     "name": "stdout",
     "output_type": "stream",
     "text": [
      "tt00.yaml:\n",
      "\n",
      "pi: &pi 3.142\n",
      "constants:\n",
      "  e: 2.718\n",
      "  pi: *pi\n",
      "\n",
      "+ uw config realize -i ../configs/tt00.yaml\n",
      "pi: 3.142\n",
      "constants:\n",
      "  e: 2.718\n",
      "  pi: 3.142\n"
     ]
    }
   ],
   "source": [
    "!realize tt00.yaml"
   ]
  },
  {
   "cell_type": "markdown",
   "id": "03731b0b-c02b-44d0-927c-e5dd28d96896",
   "metadata": {},
   "source": [
    "Merge mappings:"
   ]
  },
  {
   "cell_type": "code",
   "execution_count": 3,
   "id": "5fde3235-bf44-4cd4-813a-ea3d120b2ea8",
   "metadata": {},
   "outputs": [
    {
     "name": "stdout",
     "output_type": "stream",
     "text": [
      "tt01.yaml:\n",
      "\n",
      "math: &m\n",
      "  e: 2.718\n",
      "  pi: 3.142\n",
      "constants:\n",
      "  <<: *m\n",
      "  c: 299792458\n",
      "defaults: &d\n",
      "  color: red\n",
      "  flower: rose\n",
      "favorites:\n",
      "  <<: *d\n",
      "  color: blue\n",
      "\n",
      "+ uw config realize -i ../configs/tt01.yaml\n",
      "math:\n",
      "  e: 2.718\n",
      "  pi: 3.142\n",
      "constants:\n",
      "  e: 2.718\n",
      "  pi: 3.142\n",
      "  c: 299792458\n",
      "defaults:\n",
      "  color: red\n",
      "  flower: rose\n",
      "favorites:\n",
      "  color: blue\n",
      "  flower: rose\n"
     ]
    }
   ],
   "source": [
    "!realize tt01.yaml"
   ]
  },
  {
   "cell_type": "markdown",
   "id": "a31897bd-5697-4b4f-bc2d-3c84ae697dfc",
   "metadata": {},
   "source": [
    "But merging mappings is shallow, and can cause problems:"
   ]
  },
  {
   "cell_type": "code",
   "execution_count": 4,
   "id": "702dbb60-fcd2-46c6-a965-63284468ef97",
   "metadata": {},
   "outputs": [
    {
     "name": "stdout",
     "output_type": "stream",
     "text": [
      "tt02.yaml:\n",
      "\n",
      "defaults: &defaults\n",
      "  10m_u_component_of_wind:\n",
      "    level_type: heightAboveGround\n",
      "    name: u_10m\n",
      "gfs:\n",
      "  <<: *defaults\n",
      "  10m_u_component_of_wind:\n",
      "    name: UGRD\n",
      "\n",
      "+ uw config realize -i ../configs/tt02.yaml\n",
      "defaults:\n",
      "  10m_u_component_of_wind:\n",
      "    level_type: heightAboveGround\n",
      "    name: u_10m\n",
      "gfs:\n",
      "  10m_u_component_of_wind:\n",
      "    name: UGRD\n"
     ]
    }
   ],
   "source": [
    "!realize tt02.yaml"
   ]
  },
  {
   "cell_type": "markdown",
   "id": "a0ed3432-bf77-4736-a8d7-b3940d39d35b",
   "metadata": {},
   "source": [
    "The `10m_u_component_of_wind` value under `gfs` completely replaced the value from `defaults` instead of just updating the name. This is something that `uw config realize` and `uw config compose` can help with, by doing a deep merge that treats every level independently."
   ]
  }
 ],
 "metadata": {
  "kernelspec": {
   "display_name": "Python 3 (ipykernel)",
   "language": "python",
   "name": "python3"
  },
  "language_info": {
   "codemirror_mode": {
    "name": "ipython",
    "version": 3
   },
   "file_extension": ".py",
   "mimetype": "text/x-python",
   "name": "python",
   "nbconvert_exporter": "python",
   "pygments_lexer": "ipython3",
   "version": "3.9.0"
  }
 },
 "nbformat": 4,
 "nbformat_minor": 5
}
