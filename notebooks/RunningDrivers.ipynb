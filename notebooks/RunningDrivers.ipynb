{
 "cells": [
  {
   "cell_type": "markdown",
   "id": "905af3f0-c42a-4434-8820-53f4a19f21d9",
   "metadata": {},
   "source": [
    "# Running drivers\n",
    "\n",
    "Each driver can be run from **bash** or **Python**. Only one example below for `chgres_cube` is shown using the Python interface (API)."
   ]
  },
  {
   "cell_type": "code",
   "execution_count": null,
   "id": "6dd00b72-a370-49ce-8370-1a6b711ba066",
   "metadata": {},
   "outputs": [],
   "source": [
    "# Set up the environment using Python so it's available to each bash subshell below, along with all the Python cells.\n",
    "\n",
    "import os\n",
    "from datetime import datetime, timedelta\n",
    "from pathlib import Path\n",
    "uw_training = \"/scratch3/BMC/wrfruc/cholt/uw_training_prep/uw_training\"\n",
    "os.environ[\"uw_training\"] = uw_training\n",
    "\n",
    "cycle = datetime(2025, 8, 27, 12)"
   ]
  },
  {
   "cell_type": "markdown",
   "id": "c01d51a0-7c4f-40b4-a631-0a866a380bbb",
   "metadata": {},
   "source": [
    "## Run chgres_cube for Initial Conditions"
   ]
  },
  {
   "cell_type": "code",
   "execution_count": null,
   "id": "c09168d2-a6bd-43a1-97cd-f0d2d5bfd35d",
   "metadata": {},
   "outputs": [],
   "source": [
    "%%script bash -l\n",
    "source /etc/profile.d/slurm.sh\n",
    "uw chgres_cube run --cycle 2025-08-27T12 --leadtime 0 -c $uw_training/uw_configs/prepare_bcs.yaml --batch --key-path make_ics"
   ]
  },
  {
   "cell_type": "markdown",
   "id": "24e2a2c4-3e6a-495f-a7c9-2e1bc6f65dc1",
   "metadata": {},
   "source": [
    "### Python API Alternative for chgres_cube\n",
    "\n",
    "Docs: __[uwtools.api.chgres_cube](https://uwtools.readthedocs.io/en/main/sections/user_guide/api/chgres_cube.html)__\n"
   ]
  },
  {
   "cell_type": "code",
   "execution_count": null,
   "id": "3b84ee33-46ce-4450-8323-ac10e79d5fc6",
   "metadata": {},
   "outputs": [],
   "source": [
    "from uwtools.api.chgres_cube import ChgresCube\n",
    "from uwtools.api.logging import use_uwtools_logger\n",
    "\n",
    "use_uwtools_logger()\n",
    "\n",
    "ics = ChgresCube(config=Path(uw_training, \"uw_configs\", \"prepare_bcs.yaml\") , cycle=cycle, leadtime=timedelta(hours=0), key_path=[\"make_ics\"])\n",
    "ics.provisioned_rundir()"
   ]
  },
  {
   "cell_type": "code",
   "execution_count": null,
   "id": "4356ad7c-cede-4eec-b622-2566349adbcc",
   "metadata": {},
   "outputs": [],
   "source": [
    "help(ics)"
   ]
  },
  {
   "cell_type": "code",
   "execution_count": null,
   "id": "b5316533-1382-4694-8c92-089bab7461da",
   "metadata": {},
   "outputs": [],
   "source": [
    "ics.config"
   ]
  },
  {
   "cell_type": "code",
   "execution_count": null,
   "id": "ac2a32f9-1b60-4377-838b-0f8edd5ee0b2",
   "metadata": {},
   "outputs": [],
   "source": [
    "ics.output"
   ]
  },
  {
   "cell_type": "markdown",
   "id": "7fac0032-d71e-4501-9cbd-00190791d1d4",
   "metadata": {},
   "source": [
    "## Run chgres_cube for Lateral Boundary Conditions\n",
    "\n",
    "Run once for each lead time in a loop. Always point to the same section of the UW YAML."
   ]
  },
  {
   "cell_type": "code",
   "execution_count": null,
   "id": "5d6cd3a1-7676-4ff5-9248-6e1634ab8e33",
   "metadata": {},
   "outputs": [],
   "source": [
    "%%script bash -l\n",
    "for i in $(seq 0 6) ; do uw chgres_cube run --cycle 2025-08-27T12 --leadtime $i -c $uw_training/uw_configs/prepare_bcs.yaml --batch --key-path make_lbcs ; done"
   ]
  },
  {
   "cell_type": "markdown",
   "id": "0396005d-2a4b-4791-ba44-34007fc7bb36",
   "metadata": {},
   "source": [
    "## Run a Cold-start FV3 forecast"
   ]
  },
  {
   "cell_type": "code",
   "execution_count": null,
   "id": "a07e805c-d1db-457a-ac3c-4d5874f15791",
   "metadata": {},
   "outputs": [],
   "source": [
    "%%script bash -l\n",
    "uw fv3 run --cycle 2025-08-27T12 -c $uw_training/uw_configs/fv3_config.yaml --batch --key-path forecast_prod"
   ]
  },
  {
   "cell_type": "markdown",
   "id": "45f84f60-7894-4b79-8201-eaee8df2a885",
   "metadata": {},
   "source": [
    "## Run the Analysis at the *NEXT* Cycle\n",
    "\n",
    "Here, the cycling frequency is 1 hour."
   ]
  },
  {
   "cell_type": "code",
   "execution_count": null,
   "id": "fd97a67a-7f86-48d4-ad93-5602b18e16ac",
   "metadata": {
    "scrolled": true
   },
   "outputs": [],
   "source": [
    "%%script bash -l\n",
    "# Run with -q flag because the notebook can't handle the output in a timely fashion. Subsequent runs after the links are made can remove it.\n",
    "uw gsi run --cycle 2025-08-27T13 -c $uw_training/uw_configs/gsi_uw_config.yaml --key-path analysis --batch -q"
   ]
  },
  {
   "cell_type": "markdown",
   "id": "569df0ee-fd98-43a7-ba28-fe8997f25cb3",
   "metadata": {},
   "source": [
    "## Run a Cycled FV3 forecast from the Updated Analysis \n",
    "\n",
    "* This forecast was configured to run using the lateral boundary conditions from the previous cycle.\n",
    "* It runs a script that removes the checksums from the analysis-update files between staging the files and submitting the job."
   ]
  },
  {
   "cell_type": "code",
   "execution_count": null,
   "id": "906c4455-259c-44df-b9ff-e8ae4ae8ac71",
   "metadata": {},
   "outputs": [],
   "source": [
    "%%bash\n",
    "cat $uw_training/scripts/run_forecast.sh"
   ]
  },
  {
   "cell_type": "code",
   "execution_count": null,
   "id": "cec42ca6-06d8-4dd5-92bc-c2fab8af660d",
   "metadata": {},
   "outputs": [],
   "source": [
    "%%script bash -l\n",
    "$uw_training/scripts/run_forecast.sh $uw_training/uw_configs/fv3_config.yaml 2025-08-27T13"
   ]
  }
 ],
 "metadata": {
  "kernelspec": {
   "display_name": "Python 3 (ipykernel)",
   "language": "python",
   "name": "python3"
  },
  "language_info": {
   "codemirror_mode": {
    "name": "ipython",
    "version": 3
   },
   "file_extension": ".py",
   "mimetype": "text/x-python",
   "name": "python",
   "nbconvert_exporter": "python",
   "pygments_lexer": "ipython3",
   "version": "3.9.7"
  }
 },
 "nbformat": 4,
 "nbformat_minor": 5
}
