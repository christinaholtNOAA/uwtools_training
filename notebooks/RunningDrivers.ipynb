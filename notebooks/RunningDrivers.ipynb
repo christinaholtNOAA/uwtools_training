{
 "cells": [
  {
   "cell_type": "code",
   "execution_count": null,
   "id": "c09168d2-a6bd-43a1-97cd-f0d2d5bfd35d",
   "metadata": {},
   "outputs": [],
   "source": [
    "%%bash\n",
    "uw_trainging=/scratch3/BMC/wrfruc/cholt/uw_training_prep/uw_training\n",
    "uw chgres_cube run --cycle 2025-08-27T12 --leadtime 0 -c $uw_training/uw_configs/prepare_bcs.yaml --batch --key-path make_ics"
   ]
  },
  {
   "cell_type": "code",
   "execution_count": null,
   "id": "5d6cd3a1-7676-4ff5-9248-6e1634ab8e33",
   "metadata": {},
   "outputs": [],
   "source": [
    "%%bash\n",
    "for i in $(seq 0 6) ; do uw chgres_cube run --cycle 2025-08-27T12 --leadtime $i -c $uw_training/uw_configs/prepare_bcs.yaml --batch --key-path make_lbcs ; done"
   ]
  },
  {
   "cell_type": "code",
   "execution_count": null,
   "id": "a07e805c-d1db-457a-ac3c-4d5874f15791",
   "metadata": {},
   "outputs": [],
   "source": [
    "%%bash\n",
    "uw fv3 run --cycle 2025-08-27T12 -c $uw_training/uw_configs/fv3_config.yaml --batch --key-path forecast_prod"
   ]
  },
  {
   "cell_type": "code",
   "execution_count": null,
   "id": "fd97a67a-7f86-48d4-ad93-5602b18e16ac",
   "metadata": {},
   "outputs": [],
   "source": [
    "%%bash\n",
    "uw gsi run --cycle 2025-08-27T13 -c $uw_training/uw_training/uw_configs/gsi_uw_config.yaml --key-path analysis --batch"
   ]
  },
  {
   "cell_type": "code",
   "execution_count": null,
   "id": "cec42ca6-06d8-4dd5-92bc-c2fab8af660d",
   "metadata": {},
   "outputs": [],
   "source": [
    "%%bash\n",
    "$uw_training/scripts/run_forecast.sh $uw_training/uw_configs/fv3_config.yaml 2025-08-27T13"
   ]
  }
 ],
 "metadata": {
  "kernelspec": {
   "display_name": "Python 3 (ipykernel)",
   "language": "python",
   "name": "python3"
  },
  "language_info": {
   "codemirror_mode": {
    "name": "ipython",
    "version": 3
   },
   "file_extension": ".py",
   "mimetype": "text/x-python",
   "name": "python",
   "nbconvert_exporter": "python",
   "pygments_lexer": "ipython3",
   "version": "3.9.23"
  }
 },
 "nbformat": 4,
 "nbformat_minor": 5
}
